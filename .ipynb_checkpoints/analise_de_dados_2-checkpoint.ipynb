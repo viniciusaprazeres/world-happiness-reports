{
 "cells": [
  {
   "cell_type": "markdown",
   "metadata": {},
   "source": [
    "# 1. Definição do Problema e Objetivo\n",
    "\n",
    "## Pergunta de pesquisa:\n",
    "- Existe uma relação entre o índice de felicidade e o PIB per capita? A relação é linear?\n",
    "\n",
    "## Objetivo:\n",
    "- Entender se o PIB per capita é um fator que influencia o índice de felicidade.\n",
    "- Examinar a força e o tipo de relação (positiva, negativa, inexistente).\n",
    "\n",
    "</br>\n",
    "\n",
    "___\n",
    "\n",
    "</br>\n"
   ]
  },
  {
   "cell_type": "markdown",
   "metadata": {},
   "source": [
    "# 2. Coleta de Dados\n",
    "\n",
    "#### Base de Dados: **World Happiness Reports 2013-2023**\n",
    "\n",
    "#### Fonte: https://www.kaggle.com/datasets/joebeachcapital/world-happiness-report-2013-2023\n",
    "\n",
    "#### Ferramentas: Jupyter Notebook, Python, Pandas.\n",
    "\n",
    "</br>\n",
    "\n",
    "___\n",
    "\n",
    "</br>"
   ]
  },
  {
   "cell_type": "code",
   "execution_count": 858,
   "metadata": {},
   "outputs": [],
   "source": [
    "# Importa a biblioteca Pandas para análise de dados\n",
    "import pandas as pd\n",
    "\n",
    "# Importa e usa o pacote 'os' para mudar o diretório base do Python\n",
    "import os"
   ]
  },
  {
   "cell_type": "code",
   "execution_count": 859,
   "metadata": {},
   "outputs": [
    {
     "name": "stdout",
     "output_type": "stream",
     "text": [
      "Diretório inicial: C:\\Users\\vinic\\Meu Drive\\Trabalho de Computação - Grupo I\\Análise de Dados\n",
      "Diretório final: C:\\Users\\vinic\\Meu Drive\\Trabalho de Computação - Grupo I\\Análise de Dados\n"
     ]
    }
   ],
   "source": [
    "# O diretório no qual o Python está trabalhando:\n",
    "print('Diretório inicial: {}'.format(os.getcwd()))\n",
    "\n",
    "# Muda para o diretório contendo a base de dados\n",
    "os.chdir(r'C:\\Users\\vinic\\Meu Drive\\Trabalho de Computação - Grupo I\\Análise de Dados')\n",
    "print('Diretório final: {}'.format(os.getcwd()))"
   ]
  },
  {
   "cell_type": "code",
   "execution_count": 860,
   "metadata": {},
   "outputs": [
    {
     "data": {
      "text/plain": [
       "['.ipynb_checkpoints',\n",
       " 'analise_de_dados.html',\n",
       " 'analise_de_dados.ipynb',\n",
       " 'analise_de_dados_2.ipynb',\n",
       " 'desktop.ini',\n",
       " 'Finlandia_Happiness_Report.csv',\n",
       " 'World Happiness Report 2013.csv',\n",
       " 'World Happiness Report 2015.csv',\n",
       " 'World Happiness Report 2016.csv',\n",
       " 'World Happiness Report 2017.csv',\n",
       " 'World Happiness Report 2018.csv',\n",
       " 'World Happiness Report 2019.csv',\n",
       " 'World Happiness Report 2020.csv',\n",
       " 'World Happiness Report 2021.csv',\n",
       " 'World Happiness Report 2022.csv',\n",
       " 'World Happiness Report 2023.csv',\n",
       " 'WorldHappinessIndex2013-2023.csv']"
      ]
     },
     "execution_count": 860,
     "metadata": {},
     "output_type": "execute_result"
    }
   ],
   "source": [
    "# Lista os arquivos no diretório\n",
    "os.listdir()"
   ]
  },
  {
   "cell_type": "code",
   "execution_count": 861,
   "metadata": {},
   "outputs": [],
   "source": [
    "# Lendo o arquivo CSV da base de dados e armazenando em um DataFrame\n",
    "df_pib_felicidade_2023 = pd.read_csv('World Happiness Report 2023.csv', sep=',', encoding='utf8')\n",
    "\n",
    "# Coletando apenas as colunas 'Ladder score (Índice de Felicidade)' e 'Logged GDP per capita (PIB per capita)'\n",
    "df_pib_felicidade_2023 = df_pib_felicidade_2023[['Country name', 'Logged GDP per capita', 'Ladder score']]"
   ]
  },
  {
   "cell_type": "code",
   "execution_count": 862,
   "metadata": {},
   "outputs": [
    {
     "name": "stdout",
     "output_type": "stream",
     "text": [
      "<class 'pandas.core.frame.DataFrame'>\n",
      "RangeIndex: 137 entries, 0 to 136\n",
      "Data columns (total 3 columns):\n",
      " #   Column                 Non-Null Count  Dtype  \n",
      "---  ------                 --------------  -----  \n",
      " 0   Country name           137 non-null    object \n",
      " 1   Logged GDP per capita  137 non-null    float64\n",
      " 2   Ladder score           137 non-null    float64\n",
      "dtypes: float64(2), object(1)\n",
      "memory usage: 9.9 KB\n"
     ]
    }
   ],
   "source": [
    "# Retorna as informações técnicas sobre o DataFrame\n",
    "df_pib_felicidade_2023.info(memory_usage='deep')"
   ]
  },
  {
   "cell_type": "code",
   "execution_count": 863,
   "metadata": {},
   "outputs": [
    {
     "data": {
      "text/html": [
       "<div>\n",
       "<style scoped>\n",
       "    .dataframe tbody tr th:only-of-type {\n",
       "        vertical-align: middle;\n",
       "    }\n",
       "\n",
       "    .dataframe tbody tr th {\n",
       "        vertical-align: top;\n",
       "    }\n",
       "\n",
       "    .dataframe thead th {\n",
       "        text-align: right;\n",
       "    }\n",
       "</style>\n",
       "<table border=\"1\" class=\"dataframe\">\n",
       "  <thead>\n",
       "    <tr style=\"text-align: right;\">\n",
       "      <th></th>\n",
       "      <th>Country name</th>\n",
       "      <th>Logged GDP per capita</th>\n",
       "      <th>Ladder score</th>\n",
       "    </tr>\n",
       "  </thead>\n",
       "  <tbody>\n",
       "    <tr>\n",
       "      <th>0</th>\n",
       "      <td>Finland</td>\n",
       "      <td>10.792</td>\n",
       "      <td>7.804</td>\n",
       "    </tr>\n",
       "    <tr>\n",
       "      <th>1</th>\n",
       "      <td>Denmark</td>\n",
       "      <td>10.962</td>\n",
       "      <td>7.586</td>\n",
       "    </tr>\n",
       "    <tr>\n",
       "      <th>2</th>\n",
       "      <td>Iceland</td>\n",
       "      <td>10.896</td>\n",
       "      <td>7.530</td>\n",
       "    </tr>\n",
       "    <tr>\n",
       "      <th>3</th>\n",
       "      <td>Israel</td>\n",
       "      <td>10.639</td>\n",
       "      <td>7.473</td>\n",
       "    </tr>\n",
       "    <tr>\n",
       "      <th>4</th>\n",
       "      <td>Netherlands</td>\n",
       "      <td>10.942</td>\n",
       "      <td>7.403</td>\n",
       "    </tr>\n",
       "    <tr>\n",
       "      <th>5</th>\n",
       "      <td>Sweden</td>\n",
       "      <td>10.883</td>\n",
       "      <td>7.395</td>\n",
       "    </tr>\n",
       "    <tr>\n",
       "      <th>6</th>\n",
       "      <td>Norway</td>\n",
       "      <td>11.088</td>\n",
       "      <td>7.315</td>\n",
       "    </tr>\n",
       "    <tr>\n",
       "      <th>7</th>\n",
       "      <td>Switzerland</td>\n",
       "      <td>11.164</td>\n",
       "      <td>7.240</td>\n",
       "    </tr>\n",
       "    <tr>\n",
       "      <th>8</th>\n",
       "      <td>Luxembourg</td>\n",
       "      <td>11.660</td>\n",
       "      <td>7.228</td>\n",
       "    </tr>\n",
       "    <tr>\n",
       "      <th>9</th>\n",
       "      <td>New Zealand</td>\n",
       "      <td>10.662</td>\n",
       "      <td>7.123</td>\n",
       "    </tr>\n",
       "  </tbody>\n",
       "</table>\n",
       "</div>"
      ],
      "text/plain": [
       "  Country name  Logged GDP per capita  Ladder score\n",
       "0      Finland                 10.792         7.804\n",
       "1      Denmark                 10.962         7.586\n",
       "2      Iceland                 10.896         7.530\n",
       "3       Israel                 10.639         7.473\n",
       "4  Netherlands                 10.942         7.403\n",
       "5       Sweden                 10.883         7.395\n",
       "6       Norway                 11.088         7.315\n",
       "7  Switzerland                 11.164         7.240\n",
       "8   Luxembourg                 11.660         7.228\n",
       "9  New Zealand                 10.662         7.123"
      ]
     },
     "execution_count": 863,
     "metadata": {},
     "output_type": "execute_result"
    }
   ],
   "source": [
    "# Ordena (decrescente) pelo Índice de Felicidade e armazena os dados dos 10 maiores em um novo DataFrame\n",
    "df_pib_felicidade_2023_grupo_1 = df_pib_felicidade_2023.sort_values(by='Ladder score', ascending=False).head(10)\n",
    "\n",
    "# Exibe o DataFrame\n",
    "df_pib_felicidade_2023_grupo_1"
   ]
  },
  {
   "cell_type": "code",
   "execution_count": 864,
   "metadata": {},
   "outputs": [
    {
     "data": {
      "text/html": [
       "<div>\n",
       "<style scoped>\n",
       "    .dataframe tbody tr th:only-of-type {\n",
       "        vertical-align: middle;\n",
       "    }\n",
       "\n",
       "    .dataframe tbody tr th {\n",
       "        vertical-align: top;\n",
       "    }\n",
       "\n",
       "    .dataframe thead th {\n",
       "        text-align: right;\n",
       "    }\n",
       "</style>\n",
       "<table border=\"1\" class=\"dataframe\">\n",
       "  <thead>\n",
       "    <tr style=\"text-align: right;\">\n",
       "      <th></th>\n",
       "      <th>Country name</th>\n",
       "      <th>Logged GDP per capita</th>\n",
       "      <th>Ladder score</th>\n",
       "    </tr>\n",
       "  </thead>\n",
       "  <tbody>\n",
       "    <tr>\n",
       "      <th>94</th>\n",
       "      <td>Nigeria</td>\n",
       "      <td>8.496</td>\n",
       "      <td>4.981</td>\n",
       "    </tr>\n",
       "    <tr>\n",
       "      <th>95</th>\n",
       "      <td>Cameroon</td>\n",
       "      <td>8.217</td>\n",
       "      <td>4.973</td>\n",
       "    </tr>\n",
       "    <tr>\n",
       "      <th>96</th>\n",
       "      <td>Mozambique</td>\n",
       "      <td>7.116</td>\n",
       "      <td>4.954</td>\n",
       "    </tr>\n",
       "    <tr>\n",
       "      <th>97</th>\n",
       "      <td>Iraq</td>\n",
       "      <td>9.098</td>\n",
       "      <td>4.941</td>\n",
       "    </tr>\n",
       "    <tr>\n",
       "      <th>98</th>\n",
       "      <td>State of Palestine</td>\n",
       "      <td>8.716</td>\n",
       "      <td>4.908</td>\n",
       "    </tr>\n",
       "    <tr>\n",
       "      <th>99</th>\n",
       "      <td>Morocco</td>\n",
       "      <td>8.973</td>\n",
       "      <td>4.903</td>\n",
       "    </tr>\n",
       "    <tr>\n",
       "      <th>100</th>\n",
       "      <td>Iran</td>\n",
       "      <td>9.610</td>\n",
       "      <td>4.876</td>\n",
       "    </tr>\n",
       "    <tr>\n",
       "      <th>101</th>\n",
       "      <td>Senegal</td>\n",
       "      <td>8.155</td>\n",
       "      <td>4.855</td>\n",
       "    </tr>\n",
       "    <tr>\n",
       "      <th>102</th>\n",
       "      <td>Mauritania</td>\n",
       "      <td>8.591</td>\n",
       "      <td>4.724</td>\n",
       "    </tr>\n",
       "    <tr>\n",
       "      <th>103</th>\n",
       "      <td>Burkina Faso</td>\n",
       "      <td>7.667</td>\n",
       "      <td>4.638</td>\n",
       "    </tr>\n",
       "  </tbody>\n",
       "</table>\n",
       "</div>"
      ],
      "text/plain": [
       "           Country name  Logged GDP per capita  Ladder score\n",
       "94              Nigeria                  8.496         4.981\n",
       "95             Cameroon                  8.217         4.973\n",
       "96           Mozambique                  7.116         4.954\n",
       "97                 Iraq                  9.098         4.941\n",
       "98   State of Palestine                  8.716         4.908\n",
       "99              Morocco                  8.973         4.903\n",
       "100                Iran                  9.610         4.876\n",
       "101             Senegal                  8.155         4.855\n",
       "102          Mauritania                  8.591         4.724\n",
       "103        Burkina Faso                  7.667         4.638"
      ]
     },
     "execution_count": 864,
     "metadata": {},
     "output_type": "execute_result"
    }
   ],
   "source": [
    "# Calcula a diferença absoluta entre o Ladder score e o ponto médio entre os extremos do intervalo do índice de felicidade [1.859, 7.804]: 4.832\n",
    "df_pib_felicidade_2023['diff'] = abs(df_pib_felicidade_2023['Ladder score'] - 4.832)\n",
    "\n",
    "# Ordena os países pela diferença e seleciona os 10 mais próximos\n",
    "df_pib_felicidade_2023_grupo_2 = df_pib_felicidade_2023.sort_values(by='diff').head(10)\n",
    "\n",
    "# Ordena de forma decrescente pelo Ladder score\n",
    "df_pib_felicidade_2023_grupo_2 = df_pib_felicidade_2023_grupo_2.sort_values(by='Ladder score', ascending=False)\n",
    "\n",
    "# Remove a coluna de diferença\n",
    "df_pib_felicidade_2023_grupo_2 = df_pib_felicidade_2023_grupo_2.drop(columns=['diff'])\n",
    "\n",
    "# Exibe o DataFrame\n",
    "df_pib_felicidade_2023_grupo_2"
   ]
  },
  {
   "cell_type": "code",
   "execution_count": 865,
   "metadata": {},
   "outputs": [
    {
     "data": {
      "text/html": [
       "<div>\n",
       "<style scoped>\n",
       "    .dataframe tbody tr th:only-of-type {\n",
       "        vertical-align: middle;\n",
       "    }\n",
       "\n",
       "    .dataframe tbody tr th {\n",
       "        vertical-align: top;\n",
       "    }\n",
       "\n",
       "    .dataframe thead th {\n",
       "        text-align: right;\n",
       "    }\n",
       "</style>\n",
       "<table border=\"1\" class=\"dataframe\">\n",
       "  <thead>\n",
       "    <tr style=\"text-align: right;\">\n",
       "      <th></th>\n",
       "      <th>Country name</th>\n",
       "      <th>Logged GDP per capita</th>\n",
       "      <th>Ladder score</th>\n",
       "    </tr>\n",
       "  </thead>\n",
       "  <tbody>\n",
       "    <tr>\n",
       "      <th>127</th>\n",
       "      <td>Zambia</td>\n",
       "      <td>8.074</td>\n",
       "      <td>3.982</td>\n",
       "    </tr>\n",
       "    <tr>\n",
       "      <th>128</th>\n",
       "      <td>Tanzania</td>\n",
       "      <td>7.857</td>\n",
       "      <td>3.694</td>\n",
       "    </tr>\n",
       "    <tr>\n",
       "      <th>129</th>\n",
       "      <td>Comoros</td>\n",
       "      <td>8.075</td>\n",
       "      <td>3.545</td>\n",
       "    </tr>\n",
       "    <tr>\n",
       "      <th>130</th>\n",
       "      <td>Malawi</td>\n",
       "      <td>7.302</td>\n",
       "      <td>3.495</td>\n",
       "    </tr>\n",
       "    <tr>\n",
       "      <th>131</th>\n",
       "      <td>Botswana</td>\n",
       "      <td>9.629</td>\n",
       "      <td>3.435</td>\n",
       "    </tr>\n",
       "    <tr>\n",
       "      <th>132</th>\n",
       "      <td>Congo (Kinshasa)</td>\n",
       "      <td>7.007</td>\n",
       "      <td>3.207</td>\n",
       "    </tr>\n",
       "    <tr>\n",
       "      <th>133</th>\n",
       "      <td>Zimbabwe</td>\n",
       "      <td>7.641</td>\n",
       "      <td>3.204</td>\n",
       "    </tr>\n",
       "    <tr>\n",
       "      <th>134</th>\n",
       "      <td>Sierra Leone</td>\n",
       "      <td>7.394</td>\n",
       "      <td>3.138</td>\n",
       "    </tr>\n",
       "    <tr>\n",
       "      <th>135</th>\n",
       "      <td>Lebanon</td>\n",
       "      <td>9.478</td>\n",
       "      <td>2.392</td>\n",
       "    </tr>\n",
       "    <tr>\n",
       "      <th>136</th>\n",
       "      <td>Afghanistan</td>\n",
       "      <td>7.324</td>\n",
       "      <td>1.859</td>\n",
       "    </tr>\n",
       "  </tbody>\n",
       "</table>\n",
       "</div>"
      ],
      "text/plain": [
       "         Country name  Logged GDP per capita  Ladder score\n",
       "127            Zambia                  8.074         3.982\n",
       "128          Tanzania                  7.857         3.694\n",
       "129           Comoros                  8.075         3.545\n",
       "130            Malawi                  7.302         3.495\n",
       "131          Botswana                  9.629         3.435\n",
       "132  Congo (Kinshasa)                  7.007         3.207\n",
       "133          Zimbabwe                  7.641         3.204\n",
       "134      Sierra Leone                  7.394         3.138\n",
       "135           Lebanon                  9.478         2.392\n",
       "136       Afghanistan                  7.324         1.859"
      ]
     },
     "execution_count": 865,
     "metadata": {},
     "output_type": "execute_result"
    }
   ],
   "source": [
    "# Remove a coluna de diferença\n",
    "df_pib_felicidade_2023 = df_pib_felicidade_2023.drop(columns=['diff'])\n",
    "\n",
    "# Ordena (decrescente) pelo Índice de Felicidade e armazena os dados dos 10 menores em um novo DataFrame\n",
    "df_pib_felicidade_2023_grupo_3 = df_pib_felicidade_2023.sort_values(by='Ladder score', ascending=False).tail(10)\n",
    "\n",
    "# Exibe o DataFrame\n",
    "df_pib_felicidade_2023_grupo_3\n"
   ]
  },
  {
   "cell_type": "markdown",
   "metadata": {},
   "source": [
    "# 3. Limpeza e Preparação dos Dados\n",
    "___\n",
    "\n",
    "</br>"
   ]
  },
  {
   "cell_type": "code",
   "execution_count": 866,
   "metadata": {},
   "outputs": [
    {
     "name": "stdout",
     "output_type": "stream",
     "text": [
      "Número de valores ausentes por coluna: \n",
      "Country name             0\n",
      "Logged GDP per capita    0\n",
      "Ladder score             0\n",
      "dtype: int64\n",
      "\n",
      "Não há países duplicados no DataFrame.\n"
     ]
    }
   ],
   "source": [
    "# Verifica se há valores ausentes no DataFrame\n",
    "valores_ausentes = df_pib_felicidade_2023.isnull().sum()\n",
    "print(f\"Número de valores ausentes por coluna: \\n{valores_ausentes}\")\n",
    "\n",
    "# Verifica se há países duplicados no DataFrame\n",
    "duplicatas = df_pib_felicidade_2023[df_pib_felicidade_2023.duplicated(subset='Country name', keep=False)]\n",
    "\n",
    "if duplicatas.empty:\n",
    "    print(\"\\nNão há países duplicados no DataFrame.\")\n",
    "else:\n",
    "    print(f\"\\nPaíses duplicados: {duplicatas}\")"
   ]
  },
  {
   "cell_type": "code",
   "execution_count": 867,
   "metadata": {},
   "outputs": [
    {
     "name": "stdout",
     "output_type": "stream",
     "text": [
      "Não há países com nomes iguais entre os três dataframes\n"
     ]
    }
   ],
   "source": [
    "# Obtém os nomes dos países de cada dataframe dos grupos 1, 2 e 3\n",
    "paises_grupo_1 = set(df_pib_felicidade_2023_grupo_1['Country name'])\n",
    "paises_grupo_2 = set(df_pib_felicidade_2023_grupo_2['Country name'])\n",
    "paises_grupo_3 = set(df_pib_felicidade_2023_grupo_3['Country name'])\n",
    "\n",
    "# Encontra a interseção dos três conjuntos\n",
    "paises_comuns = paises_grupo_1 & paises_grupo_2 & paises_grupo_3\n",
    "\n",
    "# Exibe os países comuns (se houver)\n",
    "if paises_comuns:\n",
    "\tprint(f\"Países com nomes iguais entre os três dataframes: {paises_comuns}\")\n",
    "else:\n",
    "\tprint(\"Não há países com nomes iguais entre os três dataframes\")"
   ]
  },
  {
   "cell_type": "code",
   "execution_count": 868,
   "metadata": {},
   "outputs": [
    {
     "data": {
      "text/html": [
       "<div>\n",
       "<style scoped>\n",
       "    .dataframe tbody tr th:only-of-type {\n",
       "        vertical-align: middle;\n",
       "    }\n",
       "\n",
       "    .dataframe tbody tr th {\n",
       "        vertical-align: top;\n",
       "    }\n",
       "\n",
       "    .dataframe thead th {\n",
       "        text-align: right;\n",
       "    }\n",
       "</style>\n",
       "<table border=\"1\" class=\"dataframe\">\n",
       "  <thead>\n",
       "    <tr style=\"text-align: right;\">\n",
       "      <th></th>\n",
       "      <th>Country name</th>\n",
       "      <th>Logged GDP per capita</th>\n",
       "      <th>Ladder score</th>\n",
       "    </tr>\n",
       "  </thead>\n",
       "  <tbody>\n",
       "    <tr>\n",
       "      <th>0</th>\n",
       "      <td>Finland</td>\n",
       "      <td>10.792</td>\n",
       "      <td>7.804</td>\n",
       "    </tr>\n",
       "    <tr>\n",
       "      <th>1</th>\n",
       "      <td>Denmark</td>\n",
       "      <td>10.962</td>\n",
       "      <td>7.586</td>\n",
       "    </tr>\n",
       "    <tr>\n",
       "      <th>2</th>\n",
       "      <td>Iceland</td>\n",
       "      <td>10.896</td>\n",
       "      <td>7.530</td>\n",
       "    </tr>\n",
       "    <tr>\n",
       "      <th>3</th>\n",
       "      <td>Israel</td>\n",
       "      <td>10.639</td>\n",
       "      <td>7.473</td>\n",
       "    </tr>\n",
       "    <tr>\n",
       "      <th>4</th>\n",
       "      <td>Netherlands</td>\n",
       "      <td>10.942</td>\n",
       "      <td>7.403</td>\n",
       "    </tr>\n",
       "    <tr>\n",
       "      <th>5</th>\n",
       "      <td>Sweden</td>\n",
       "      <td>10.883</td>\n",
       "      <td>7.395</td>\n",
       "    </tr>\n",
       "    <tr>\n",
       "      <th>6</th>\n",
       "      <td>Norway</td>\n",
       "      <td>11.088</td>\n",
       "      <td>7.315</td>\n",
       "    </tr>\n",
       "    <tr>\n",
       "      <th>7</th>\n",
       "      <td>Switzerland</td>\n",
       "      <td>11.164</td>\n",
       "      <td>7.240</td>\n",
       "    </tr>\n",
       "    <tr>\n",
       "      <th>8</th>\n",
       "      <td>Luxembourg</td>\n",
       "      <td>11.660</td>\n",
       "      <td>7.228</td>\n",
       "    </tr>\n",
       "    <tr>\n",
       "      <th>9</th>\n",
       "      <td>New Zealand</td>\n",
       "      <td>10.662</td>\n",
       "      <td>7.123</td>\n",
       "    </tr>\n",
       "    <tr>\n",
       "      <th>10</th>\n",
       "      <td>Nigeria</td>\n",
       "      <td>8.496</td>\n",
       "      <td>4.981</td>\n",
       "    </tr>\n",
       "    <tr>\n",
       "      <th>11</th>\n",
       "      <td>Cameroon</td>\n",
       "      <td>8.217</td>\n",
       "      <td>4.973</td>\n",
       "    </tr>\n",
       "    <tr>\n",
       "      <th>12</th>\n",
       "      <td>Mozambique</td>\n",
       "      <td>7.116</td>\n",
       "      <td>4.954</td>\n",
       "    </tr>\n",
       "    <tr>\n",
       "      <th>13</th>\n",
       "      <td>Iraq</td>\n",
       "      <td>9.098</td>\n",
       "      <td>4.941</td>\n",
       "    </tr>\n",
       "    <tr>\n",
       "      <th>14</th>\n",
       "      <td>State of Palestine</td>\n",
       "      <td>8.716</td>\n",
       "      <td>4.908</td>\n",
       "    </tr>\n",
       "    <tr>\n",
       "      <th>15</th>\n",
       "      <td>Morocco</td>\n",
       "      <td>8.973</td>\n",
       "      <td>4.903</td>\n",
       "    </tr>\n",
       "    <tr>\n",
       "      <th>16</th>\n",
       "      <td>Iran</td>\n",
       "      <td>9.610</td>\n",
       "      <td>4.876</td>\n",
       "    </tr>\n",
       "    <tr>\n",
       "      <th>17</th>\n",
       "      <td>Senegal</td>\n",
       "      <td>8.155</td>\n",
       "      <td>4.855</td>\n",
       "    </tr>\n",
       "    <tr>\n",
       "      <th>18</th>\n",
       "      <td>Mauritania</td>\n",
       "      <td>8.591</td>\n",
       "      <td>4.724</td>\n",
       "    </tr>\n",
       "    <tr>\n",
       "      <th>19</th>\n",
       "      <td>Burkina Faso</td>\n",
       "      <td>7.667</td>\n",
       "      <td>4.638</td>\n",
       "    </tr>\n",
       "    <tr>\n",
       "      <th>20</th>\n",
       "      <td>Zambia</td>\n",
       "      <td>8.074</td>\n",
       "      <td>3.982</td>\n",
       "    </tr>\n",
       "    <tr>\n",
       "      <th>21</th>\n",
       "      <td>Tanzania</td>\n",
       "      <td>7.857</td>\n",
       "      <td>3.694</td>\n",
       "    </tr>\n",
       "    <tr>\n",
       "      <th>22</th>\n",
       "      <td>Comoros</td>\n",
       "      <td>8.075</td>\n",
       "      <td>3.545</td>\n",
       "    </tr>\n",
       "    <tr>\n",
       "      <th>23</th>\n",
       "      <td>Malawi</td>\n",
       "      <td>7.302</td>\n",
       "      <td>3.495</td>\n",
       "    </tr>\n",
       "    <tr>\n",
       "      <th>24</th>\n",
       "      <td>Botswana</td>\n",
       "      <td>9.629</td>\n",
       "      <td>3.435</td>\n",
       "    </tr>\n",
       "    <tr>\n",
       "      <th>25</th>\n",
       "      <td>Congo (Kinshasa)</td>\n",
       "      <td>7.007</td>\n",
       "      <td>3.207</td>\n",
       "    </tr>\n",
       "    <tr>\n",
       "      <th>26</th>\n",
       "      <td>Zimbabwe</td>\n",
       "      <td>7.641</td>\n",
       "      <td>3.204</td>\n",
       "    </tr>\n",
       "    <tr>\n",
       "      <th>27</th>\n",
       "      <td>Sierra Leone</td>\n",
       "      <td>7.394</td>\n",
       "      <td>3.138</td>\n",
       "    </tr>\n",
       "    <tr>\n",
       "      <th>28</th>\n",
       "      <td>Lebanon</td>\n",
       "      <td>9.478</td>\n",
       "      <td>2.392</td>\n",
       "    </tr>\n",
       "    <tr>\n",
       "      <th>29</th>\n",
       "      <td>Afghanistan</td>\n",
       "      <td>7.324</td>\n",
       "      <td>1.859</td>\n",
       "    </tr>\n",
       "  </tbody>\n",
       "</table>\n",
       "</div>"
      ],
      "text/plain": [
       "          Country name  Logged GDP per capita  Ladder score\n",
       "0              Finland                 10.792         7.804\n",
       "1              Denmark                 10.962         7.586\n",
       "2              Iceland                 10.896         7.530\n",
       "3               Israel                 10.639         7.473\n",
       "4          Netherlands                 10.942         7.403\n",
       "5               Sweden                 10.883         7.395\n",
       "6               Norway                 11.088         7.315\n",
       "7          Switzerland                 11.164         7.240\n",
       "8           Luxembourg                 11.660         7.228\n",
       "9          New Zealand                 10.662         7.123\n",
       "10             Nigeria                  8.496         4.981\n",
       "11            Cameroon                  8.217         4.973\n",
       "12          Mozambique                  7.116         4.954\n",
       "13                Iraq                  9.098         4.941\n",
       "14  State of Palestine                  8.716         4.908\n",
       "15             Morocco                  8.973         4.903\n",
       "16                Iran                  9.610         4.876\n",
       "17             Senegal                  8.155         4.855\n",
       "18          Mauritania                  8.591         4.724\n",
       "19        Burkina Faso                  7.667         4.638\n",
       "20              Zambia                  8.074         3.982\n",
       "21            Tanzania                  7.857         3.694\n",
       "22             Comoros                  8.075         3.545\n",
       "23              Malawi                  7.302         3.495\n",
       "24            Botswana                  9.629         3.435\n",
       "25    Congo (Kinshasa)                  7.007         3.207\n",
       "26            Zimbabwe                  7.641         3.204\n",
       "27        Sierra Leone                  7.394         3.138\n",
       "28             Lebanon                  9.478         2.392\n",
       "29         Afghanistan                  7.324         1.859"
      ]
     },
     "execution_count": 868,
     "metadata": {},
     "output_type": "execute_result"
    }
   ],
   "source": [
    "# Junta os três dataframes em um novo dataframe com os 30 países selecionados\n",
    "df_pib_felicidade_2023_30_paises = pd.concat([df_pib_felicidade_2023_grupo_1, df_pib_felicidade_2023_grupo_2, df_pib_felicidade_2023_grupo_3], ignore_index=True).sort_values(by='Ladder score', ascending=False)\n",
    "\n",
    "# Exibe o novo dataframe combinado\n",
    "df_pib_felicidade_2023_30_paises"
   ]
  },
  {
   "cell_type": "markdown",
   "metadata": {},
   "source": [
    "# 4. Análise Exploratória dos Dados\n",
    "\n",
    "___\n",
    "\n",
    "</br>"
   ]
  },
  {
   "cell_type": "markdown",
   "metadata": {},
   "source": [
    "## Estatísticas Descritivas - Grupo 1"
   ]
  },
  {
   "cell_type": "code",
   "execution_count": 869,
   "metadata": {},
   "outputs": [
    {
     "data": {
      "text/html": [
       "<div>\n",
       "<style scoped>\n",
       "    .dataframe tbody tr th:only-of-type {\n",
       "        vertical-align: middle;\n",
       "    }\n",
       "\n",
       "    .dataframe tbody tr th {\n",
       "        vertical-align: top;\n",
       "    }\n",
       "\n",
       "    .dataframe thead th {\n",
       "        text-align: right;\n",
       "    }\n",
       "</style>\n",
       "<table border=\"1\" class=\"dataframe\">\n",
       "  <thead>\n",
       "    <tr style=\"text-align: right;\">\n",
       "      <th></th>\n",
       "      <th>Logged GDP per capita</th>\n",
       "      <th>Ladder score</th>\n",
       "    </tr>\n",
       "  </thead>\n",
       "  <tbody>\n",
       "    <tr>\n",
       "      <th>count</th>\n",
       "      <td>10.000000</td>\n",
       "      <td>10.000000</td>\n",
       "    </tr>\n",
       "    <tr>\n",
       "      <th>mean</th>\n",
       "      <td>10.968800</td>\n",
       "      <td>7.409700</td>\n",
       "    </tr>\n",
       "    <tr>\n",
       "      <th>var</th>\n",
       "      <td>0.086405</td>\n",
       "      <td>0.039808</td>\n",
       "    </tr>\n",
       "    <tr>\n",
       "      <th>std</th>\n",
       "      <td>0.293948</td>\n",
       "      <td>0.199519</td>\n",
       "    </tr>\n",
       "    <tr>\n",
       "      <th>min</th>\n",
       "      <td>10.639000</td>\n",
       "      <td>7.123000</td>\n",
       "    </tr>\n",
       "    <tr>\n",
       "      <th>25%</th>\n",
       "      <td>10.814750</td>\n",
       "      <td>7.258750</td>\n",
       "    </tr>\n",
       "    <tr>\n",
       "      <th>50%</th>\n",
       "      <td>10.919000</td>\n",
       "      <td>7.399000</td>\n",
       "    </tr>\n",
       "    <tr>\n",
       "      <th>75%</th>\n",
       "      <td>11.056500</td>\n",
       "      <td>7.515750</td>\n",
       "    </tr>\n",
       "    <tr>\n",
       "      <th>max</th>\n",
       "      <td>11.660000</td>\n",
       "      <td>7.804000</td>\n",
       "    </tr>\n",
       "  </tbody>\n",
       "</table>\n",
       "</div>"
      ],
      "text/plain": [
       "       Logged GDP per capita  Ladder score\n",
       "count              10.000000     10.000000\n",
       "mean               10.968800      7.409700\n",
       "var                 0.086405      0.039808\n",
       "std                 0.293948      0.199519\n",
       "min                10.639000      7.123000\n",
       "25%                10.814750      7.258750\n",
       "50%                10.919000      7.399000\n",
       "75%                11.056500      7.515750\n",
       "max                11.660000      7.804000"
      ]
     },
     "execution_count": 869,
     "metadata": {},
     "output_type": "execute_result"
    }
   ],
   "source": [
    "# Descreve e armazena uma tabela de estatísticas descritivas das colunas numéricas do DataFrame\n",
    "estatisticas_grupo_1 = df_pib_felicidade_2023_grupo_1.describe()\n",
    "\n",
    "# Seleciona apenas as colunas numéricas do DataFrame\n",
    "df_pib_felicidade_2023_grupo_1_numerico = df_pib_felicidade_2023_grupo_1.select_dtypes(include=['float64'])\n",
    "\n",
    "# Calcula o desvio padrão ao quadrado (variância) dos dados e adiciona ao DataFrame de descrição\n",
    "desvio_padrao_ao_quadrado_grupo_1 = df_pib_felicidade_2023_grupo_1_numerico.std() ** 2\n",
    "estatisticas_grupo_1.loc['var'] = desvio_padrao_ao_quadrado_grupo_1\n",
    "\n",
    "# Reordena as linhas para colocar a variância antes do desvio padrão e após a média\n",
    "estatisticas_grupo_1 = estatisticas_grupo_1.loc[['count', 'mean', 'var', 'std', 'min', '25%', '50%', '75%', 'max'] + [col for col in estatisticas_grupo_1.index if col not in ['count', 'mean', 'var', 'std', 'min', '25%', '50%', '75%', 'max']]]\n",
    "\n",
    "# Exibe a tabela de estatísticas descritivas\n",
    "estatisticas_grupo_1"
   ]
  },
  {
   "cell_type": "markdown",
   "metadata": {},
   "source": [
    "## Estatísticas Descritivas - Grupo 2"
   ]
  },
  {
   "cell_type": "code",
   "execution_count": 870,
   "metadata": {
    "vscode": {
     "languageId": "ruby"
    }
   },
   "outputs": [
    {
     "data": {
      "text/html": [
       "<div>\n",
       "<style scoped>\n",
       "    .dataframe tbody tr th:only-of-type {\n",
       "        vertical-align: middle;\n",
       "    }\n",
       "\n",
       "    .dataframe tbody tr th {\n",
       "        vertical-align: top;\n",
       "    }\n",
       "\n",
       "    .dataframe thead th {\n",
       "        text-align: right;\n",
       "    }\n",
       "</style>\n",
       "<table border=\"1\" class=\"dataframe\">\n",
       "  <thead>\n",
       "    <tr style=\"text-align: right;\">\n",
       "      <th></th>\n",
       "      <th>Logged GDP per capita</th>\n",
       "      <th>Ladder score</th>\n",
       "    </tr>\n",
       "  </thead>\n",
       "  <tbody>\n",
       "    <tr>\n",
       "      <th>count</th>\n",
       "      <td>10.000000</td>\n",
       "      <td>10.000000</td>\n",
       "    </tr>\n",
       "    <tr>\n",
       "      <th>mean</th>\n",
       "      <td>8.463900</td>\n",
       "      <td>4.875300</td>\n",
       "    </tr>\n",
       "    <tr>\n",
       "      <th>var</th>\n",
       "      <td>0.518201</td>\n",
       "      <td>0.012520</td>\n",
       "    </tr>\n",
       "    <tr>\n",
       "      <th>std</th>\n",
       "      <td>0.719862</td>\n",
       "      <td>0.111893</td>\n",
       "    </tr>\n",
       "    <tr>\n",
       "      <th>min</th>\n",
       "      <td>7.116000</td>\n",
       "      <td>4.638000</td>\n",
       "    </tr>\n",
       "    <tr>\n",
       "      <th>25%</th>\n",
       "      <td>8.170500</td>\n",
       "      <td>4.860250</td>\n",
       "    </tr>\n",
       "    <tr>\n",
       "      <th>50%</th>\n",
       "      <td>8.543500</td>\n",
       "      <td>4.905500</td>\n",
       "    </tr>\n",
       "    <tr>\n",
       "      <th>75%</th>\n",
       "      <td>8.908750</td>\n",
       "      <td>4.950750</td>\n",
       "    </tr>\n",
       "    <tr>\n",
       "      <th>max</th>\n",
       "      <td>9.610000</td>\n",
       "      <td>4.981000</td>\n",
       "    </tr>\n",
       "  </tbody>\n",
       "</table>\n",
       "</div>"
      ],
      "text/plain": [
       "       Logged GDP per capita  Ladder score\n",
       "count              10.000000     10.000000\n",
       "mean                8.463900      4.875300\n",
       "var                 0.518201      0.012520\n",
       "std                 0.719862      0.111893\n",
       "min                 7.116000      4.638000\n",
       "25%                 8.170500      4.860250\n",
       "50%                 8.543500      4.905500\n",
       "75%                 8.908750      4.950750\n",
       "max                 9.610000      4.981000"
      ]
     },
     "execution_count": 870,
     "metadata": {},
     "output_type": "execute_result"
    }
   ],
   "source": [
    "# Descreve e armazena uma tabela de estatísticas descritivas das colunas numéricas do DataFrame\n",
    "estatisticas_grupo_2 = df_pib_felicidade_2023_grupo_2.describe()\n",
    "\n",
    "# Seleciona apenas as colunas numéricas do DataFrame \n",
    "df_pib_felicidade_2023_grupo_2_numerico = df_pib_felicidade_2023_grupo_2.select_dtypes(include=['float64'])\n",
    "\n",
    "# Calcula o desvio padrão ao quadrado (variância) dos dados e adiciona ao DataFrame de descrição\n",
    "desvio_padrao_ao_quadrado_grupo_2 = df_pib_felicidade_2023_grupo_2_numerico.std() ** 2\n",
    "estatisticas_grupo_2.loc['var'] = desvio_padrao_ao_quadrado_grupo_2\n",
    "\n",
    "# Reordena as linhas para colocar a variância antes do desvio padrão e após a média\n",
    "estatisticas_grupo_2 = estatisticas_grupo_2.loc[['count', 'mean', 'var', 'std', 'min', '25%', '50%', '75%', 'max'] + [col for col in estatisticas_grupo_2.index if col not in ['count', 'mean', 'var', 'std', 'min', '25%', '50%', '75%', 'max']]]\n",
    "\n",
    "# Exibe a tabela de estatísticas descritivas\n",
    "estatisticas_grupo_2"
   ]
  },
  {
   "cell_type": "markdown",
   "metadata": {},
   "source": [
    "## Estatísticas Descritivas - Grupo 3"
   ]
  },
  {
   "cell_type": "code",
   "execution_count": 871,
   "metadata": {
    "vscode": {
     "languageId": "ruby"
    }
   },
   "outputs": [
    {
     "data": {
      "text/html": [
       "<div>\n",
       "<style scoped>\n",
       "    .dataframe tbody tr th:only-of-type {\n",
       "        vertical-align: middle;\n",
       "    }\n",
       "\n",
       "    .dataframe tbody tr th {\n",
       "        vertical-align: top;\n",
       "    }\n",
       "\n",
       "    .dataframe thead th {\n",
       "        text-align: right;\n",
       "    }\n",
       "</style>\n",
       "<table border=\"1\" class=\"dataframe\">\n",
       "  <thead>\n",
       "    <tr style=\"text-align: right;\">\n",
       "      <th></th>\n",
       "      <th>Logged GDP per capita</th>\n",
       "      <th>Ladder score</th>\n",
       "    </tr>\n",
       "  </thead>\n",
       "  <tbody>\n",
       "    <tr>\n",
       "      <th>count</th>\n",
       "      <td>10.000000</td>\n",
       "      <td>10.00000</td>\n",
       "    </tr>\n",
       "    <tr>\n",
       "      <th>mean</th>\n",
       "      <td>7.978100</td>\n",
       "      <td>3.19510</td>\n",
       "    </tr>\n",
       "    <tr>\n",
       "      <th>var</th>\n",
       "      <td>0.810136</td>\n",
       "      <td>0.39685</td>\n",
       "    </tr>\n",
       "    <tr>\n",
       "      <th>std</th>\n",
       "      <td>0.900076</td>\n",
       "      <td>0.62996</td>\n",
       "    </tr>\n",
       "    <tr>\n",
       "      <th>min</th>\n",
       "      <td>7.007000</td>\n",
       "      <td>1.85900</td>\n",
       "    </tr>\n",
       "    <tr>\n",
       "      <th>25%</th>\n",
       "      <td>7.341500</td>\n",
       "      <td>3.15450</td>\n",
       "    </tr>\n",
       "    <tr>\n",
       "      <th>50%</th>\n",
       "      <td>7.749000</td>\n",
       "      <td>3.32100</td>\n",
       "    </tr>\n",
       "    <tr>\n",
       "      <th>75%</th>\n",
       "      <td>8.074750</td>\n",
       "      <td>3.53250</td>\n",
       "    </tr>\n",
       "    <tr>\n",
       "      <th>max</th>\n",
       "      <td>9.629000</td>\n",
       "      <td>3.98200</td>\n",
       "    </tr>\n",
       "  </tbody>\n",
       "</table>\n",
       "</div>"
      ],
      "text/plain": [
       "       Logged GDP per capita  Ladder score\n",
       "count              10.000000      10.00000\n",
       "mean                7.978100       3.19510\n",
       "var                 0.810136       0.39685\n",
       "std                 0.900076       0.62996\n",
       "min                 7.007000       1.85900\n",
       "25%                 7.341500       3.15450\n",
       "50%                 7.749000       3.32100\n",
       "75%                 8.074750       3.53250\n",
       "max                 9.629000       3.98200"
      ]
     },
     "execution_count": 871,
     "metadata": {},
     "output_type": "execute_result"
    }
   ],
   "source": [
    "# Descreve e armazena uma tabela de estatísticas descritivas das colunas numéricas do DataFrame\n",
    "estatisticas_grupo_3 = df_pib_felicidade_2023_grupo_3.describe()\n",
    "\n",
    "# Seleciona apenas as colunas numéricas do DataFrame \n",
    "df_pib_felicidade_2023_grupo_3_numerico = df_pib_felicidade_2023_grupo_3.select_dtypes(include=['float64'])\n",
    "\n",
    "# Calcula o desvio padrão ao quadrado (variância) dos dados e adiciona ao DataFrame de descrição\n",
    "desvio_padrao_ao_quadrado_grupo_3 = df_pib_felicidade_2023_grupo_3_numerico.std() ** 2\n",
    "estatisticas_grupo_3.loc['var'] = desvio_padrao_ao_quadrado_grupo_3\n",
    "\n",
    "# Reordena as linhas para colocar a variância antes do desvio padrão e após a média\n",
    "estatisticas_grupo_3 = estatisticas_grupo_3.loc[['count', 'mean', 'var', 'std', 'min', '25%', '50%', '75%', 'max'] + [col for col in estatisticas_grupo_3.index if col not in ['count', 'mean', 'var', 'std', 'min', '25%', '50%', '75%', 'max']]]\n",
    "\n",
    "# Exibe a tabela de estatísticas descritivas\n",
    "estatisticas_grupo_3"
   ]
  },
  {
   "cell_type": "markdown",
   "metadata": {},
   "source": [
    "## Estatísticas Descritivas - 30 Países Selecionados"
   ]
  },
  {
   "cell_type": "code",
   "execution_count": 872,
   "metadata": {
    "vscode": {
     "languageId": "ruby"
    }
   },
   "outputs": [
    {
     "data": {
      "text/html": [
       "<div>\n",
       "<style scoped>\n",
       "    .dataframe tbody tr th:only-of-type {\n",
       "        vertical-align: middle;\n",
       "    }\n",
       "\n",
       "    .dataframe tbody tr th {\n",
       "        vertical-align: top;\n",
       "    }\n",
       "\n",
       "    .dataframe thead th {\n",
       "        text-align: right;\n",
       "    }\n",
       "</style>\n",
       "<table border=\"1\" class=\"dataframe\">\n",
       "  <thead>\n",
       "    <tr style=\"text-align: right;\">\n",
       "      <th></th>\n",
       "      <th>Logged GDP per capita</th>\n",
       "      <th>Ladder score</th>\n",
       "    </tr>\n",
       "  </thead>\n",
       "  <tbody>\n",
       "    <tr>\n",
       "      <th>count</th>\n",
       "      <td>30.000000</td>\n",
       "      <td>30.000000</td>\n",
       "    </tr>\n",
       "    <tr>\n",
       "      <th>mean</th>\n",
       "      <td>9.136933</td>\n",
       "      <td>5.160033</td>\n",
       "    </tr>\n",
       "    <tr>\n",
       "      <th>var</th>\n",
       "      <td>2.215473</td>\n",
       "      <td>3.243895</td>\n",
       "    </tr>\n",
       "    <tr>\n",
       "      <th>std</th>\n",
       "      <td>1.488447</td>\n",
       "      <td>1.801082</td>\n",
       "    </tr>\n",
       "    <tr>\n",
       "      <th>min</th>\n",
       "      <td>7.007000</td>\n",
       "      <td>1.859000</td>\n",
       "    </tr>\n",
       "    <tr>\n",
       "      <th>25%</th>\n",
       "      <td>7.911250</td>\n",
       "      <td>3.582250</td>\n",
       "    </tr>\n",
       "    <tr>\n",
       "      <th>50%</th>\n",
       "      <td>8.844500</td>\n",
       "      <td>4.905500</td>\n",
       "    </tr>\n",
       "    <tr>\n",
       "      <th>75%</th>\n",
       "      <td>10.759500</td>\n",
       "      <td>7.237000</td>\n",
       "    </tr>\n",
       "    <tr>\n",
       "      <th>max</th>\n",
       "      <td>11.660000</td>\n",
       "      <td>7.804000</td>\n",
       "    </tr>\n",
       "  </tbody>\n",
       "</table>\n",
       "</div>"
      ],
      "text/plain": [
       "       Logged GDP per capita  Ladder score\n",
       "count              30.000000     30.000000\n",
       "mean                9.136933      5.160033\n",
       "var                 2.215473      3.243895\n",
       "std                 1.488447      1.801082\n",
       "min                 7.007000      1.859000\n",
       "25%                 7.911250      3.582250\n",
       "50%                 8.844500      4.905500\n",
       "75%                10.759500      7.237000\n",
       "max                11.660000      7.804000"
      ]
     },
     "execution_count": 872,
     "metadata": {},
     "output_type": "execute_result"
    }
   ],
   "source": [
    "# Descreve e armazena uma tabela de estatísticas descritivas das colunas numéricas do DataFrame\n",
    "estatisticas_30_paises = df_pib_felicidade_2023_30_paises.describe()\n",
    "\n",
    "# Seleciona apenas as colunas numéricas do DataFrame \n",
    "df_pib_felicidade_2023_30_paises_numerico = df_pib_felicidade_2023_30_paises.select_dtypes(include=['float64'])\n",
    "\n",
    "# Calcula o desvio padrão ao quadrado (variância) dos dados e adiciona ao DataFrame de descrição\n",
    "desvio_padrao_ao_quadrado_30_paises = df_pib_felicidade_2023_30_paises_numerico.std() ** 2\n",
    "estatisticas_30_paises.loc['var'] = desvio_padrao_ao_quadrado_30_paises\n",
    "\n",
    "# Reordena as linhas para colocar a variância antes do desvio padrão e após a média\n",
    "estatisticas_30_paises = estatisticas_30_paises.loc[['count', 'mean', 'var', 'std', 'min', '25%', '50%', '75%', 'max'] + [col for col in estatisticas_30_paises.index if col not in ['count', 'mean', 'var', 'std', 'min', '25%', '50%', '75%', 'max']]]\n",
    "\n",
    "# Exibe a tabela de estatísticas descritivas\n",
    "estatisticas_30_paises"
   ]
  },
  {
   "cell_type": "markdown",
   "metadata": {},
   "source": [
    "# Gráficos de Dispersão - Grupo 1"
   ]
  },
  {
   "cell_type": "code",
   "execution_count": 873,
   "metadata": {},
   "outputs": [
    {
     "data": {
      "image/png": "[encoded data removed]",
      "text/plain": [
       "<Figure size 1000x600 with 1 Axes>"
      ]
     },
     "metadata": {},
     "output_type": "display_data"
    }
   ],
   "source": [
    "import matplotlib.pyplot as plt\n",
    "\n",
    "# Cria o gráfico de dispersão\n",
    "plt.figure(figsize=(10, 6))\n",
    "plt.scatter(df_pib_felicidade_2023_grupo_1['Logged GDP per capita'], df_pib_felicidade_2023_grupo_1['Ladder score'], color='blue')\n",
    "\n",
    "# Adiciona título e rótulos aos eixos\n",
    "plt.title('Relação entre o Índice de Felicidade e o PIB per Capita (Grupo 1)')\n",
    "plt.xlabel('PIB per Capita (Log)')\n",
    "plt.ylabel('Índice de Felicidade')\n",
    "\n",
    "# Adiciona uma grade ao gráfico\n",
    "plt.grid(True)\n",
    "\n",
    "# Exibe o gráfico\n",
    "plt.show()"
   ]
  },
  {
   "cell_type": "markdown",
   "metadata": {},
   "source": [
    "## Boxplots - Distribuições em categorias de PIB (baixo, médio, alto) - Grupo 1"
   ]
  },
  {
   "cell_type": "code",
   "execution_count": 874,
   "metadata": {
    "vscode": {
     "languageId": "ruby"
    }
   },
   "outputs": [
    {
     "data": {
      "image/png": "[encoded data removed]",
      "text/plain": [
       "<Figure size 1000x600 with 1 Axes>"
      ]
     },
     "metadata": {},
     "output_type": "display_data"
    }
   ],
   "source": [
    "# Importa a biblioteca Seaborn para visualização de dados\n",
    "import seaborn as sns\n",
    "\n",
    "# Categoriza os países do grupo 1 em três categorias de PIB (baixo, médio, alto)\n",
    "quartis = df_pib_felicidade_2023_grupo_1['Logged GDP per capita'].quantile([0.33, 0.66])\n",
    "df_pib_felicidade_2023_grupo_1['PIB Categoria'] = pd.cut(df_pib_felicidade_2023_grupo_1['Logged GDP per capita'], bins=[-float('inf'), quartis[0.33], quartis[0.66], float('inf')], labels=['Baixo', 'Médio', 'Alto'])\n",
    "\n",
    "# Cria os boxplots para comparar as distribuições do Índice de Felicidade em categorias de PIB\n",
    "plt.figure(figsize=(10, 6))\n",
    "sns.boxplot(x='PIB Categoria', y='Ladder score', data=df_pib_felicidade_2023_grupo_1)\n",
    "\n",
    "# Adiciona título e rótulos aos eixos\n",
    "plt.title('Distribuição do Índice de Felicidade por Categoria de PIB (Grupo 1)')\n",
    "plt.xlabel('Categoria de PIB')\n",
    "plt.ylabel('Índice de Felicidade')\n",
    "\n",
    "# Exibe o gráfico\n",
    "plt.show()"
   ]
  },
  {
   "cell_type": "markdown",
   "metadata": {},
   "source": []
  },
  {
   "cell_type": "markdown",
   "metadata": {},
   "source": []
  },
  {
   "cell_type": "markdown",
   "metadata": {},
   "source": [
    "# Gráficos de Dispersão - Grupo 2"
   ]
  },
  {
   "cell_type": "code",
   "execution_count": 875,
   "metadata": {},
   "outputs": [
    {
     "data": {
      "image/png": "[encoded data removed]",
      "text/plain": [
       "<Figure size 1000x600 with 1 Axes>"
      ]
     },
     "metadata": {},
     "output_type": "display_data"
    }
   ],
   "source": [
    "# Cria o gráfico de dispersão\n",
    "plt.figure(figsize=(10, 6))\n",
    "plt.scatter(df_pib_felicidade_2023_grupo_2['Logged GDP per capita'], df_pib_felicidade_2023_grupo_2['Ladder score'], color='green')\n",
    "\n",
    "# Adiciona título e rótulos aos eixos\n",
    "plt.title('Relação entre o Índice de Felicidade e o PIB per Capita (Grupo 2)')\n",
    "plt.xlabel('PIB per Capita (Log)')\n",
    "plt.ylabel('Índice de Felicidade')\n",
    "\n",
    "# Adiciona uma grade ao gráfico\n",
    "plt.grid(True)\n",
    "\n",
    "# Exibe o gráfico\n",
    "plt.show()"
   ]
  },
  {
   "cell_type": "markdown",
   "metadata": {},
   "source": [
    "## Boxplots - Distribuições em categorias de PIB (baixo, médio, alto) - Grupo 2"
   ]
  },
  {
   "cell_type": "code",
   "execution_count": 876,
   "metadata": {},
   "outputs": [
    {
     "data": {
      "image/png": "[encoded data removed]",
      "text/plain": [
       "<Figure size 1000x600 with 1 Axes>"
      ]
     },
     "metadata": {},
     "output_type": "display_data"
    }
   ],
   "source": [
    "# Categoriza os países do grupo 2 em três categorias de PIB (baixo, médio, alto)\n",
    "quartis = df_pib_felicidade_2023_grupo_2['Logged GDP per capita'].quantile([0.33, 0.66])\n",
    "df_pib_felicidade_2023_grupo_2['PIB Categoria'] = pd.cut(df_pib_felicidade_2023_grupo_2['Logged GDP per capita'], bins=[-float('inf'), quartis[0.33], quartis[0.66], float('inf')], labels=['Baixo', 'Médio', 'Alto'])\n",
    "\n",
    "# Cria os boxplots para comparar as distribuições do Índice de Felicidade em categorias de PIB\n",
    "plt.figure(figsize=(10, 6))\n",
    "sns.boxplot(x='PIB Categoria', y='Ladder score', data=df_pib_felicidade_2023_grupo_2)\n",
    "\n",
    "# Adiciona título e rótulos aos eixos\n",
    "plt.title('Distribuição do Índice de Felicidade por Categoria de PIB (Grupo 2)')\n",
    "plt.xlabel('Categoria de PIB')\n",
    "plt.ylabel('Índice de Felicidade')\n",
    "\n",
    "# Exibe o gráfico\n",
    "plt.show()"
   ]
  },
  {
   "cell_type": "markdown",
   "metadata": {},
   "source": [
    "# Gráficos de Dispersão - Grupo 3"
   ]
  },
  {
   "cell_type": "code",
   "execution_count": 877,
   "metadata": {},
   "outputs": [
    {
     "data": {
      "image/png": "[encoded data removed]",
      "text/plain": [
       "<Figure size 1000x600 with 1 Axes>"
      ]
     },
     "metadata": {},
     "output_type": "display_data"
    }
   ],
   "source": [
    "# Cria o gráfico de dispersão\n",
    "plt.figure(figsize=(10, 6))\n",
    "plt.scatter(df_pib_felicidade_2023_grupo_3['Logged GDP per capita'], df_pib_felicidade_2023_grupo_3['Ladder score'], color='red')\n",
    "\n",
    "# Adiciona título e rótulos aos eixos\n",
    "plt.title('Relação entre o Índice de Felicidade e o PIB per Capita (Grupo 3)')\n",
    "plt.xlabel('PIB per Capita (Log)')\n",
    "plt.ylabel('Índice de Felicidade')\n",
    "\n",
    "# Adiciona uma grade ao gráfico\n",
    "plt.grid(True)\n",
    "\n",
    "# Exibe o gráfico\n",
    "plt.show()"
   ]
  },
  {
   "cell_type": "markdown",
   "metadata": {},
   "source": [
    "## Boxplots - Distribuições em categorias de PIB (baixo, médio, alto) - Grupo 3"
   ]
  },
  {
   "cell_type": "code",
   "execution_count": 878,
   "metadata": {},
   "outputs": [
    {
     "data": {
      "image/png": "[encoded data removed]",
      "text/plain": [
       "<Figure size 1000x600 with 1 Axes>"
      ]
     },
     "metadata": {},
     "output_type": "display_data"
    }
   ],
   "source": [
    "# Categoriza os países do grupo 3 em três categorias de PIB (baixo, médio, alto)\n",
    "quartis = df_pib_felicidade_2023_grupo_3['Logged GDP per capita'].quantile([0.33, 0.66])\n",
    "df_pib_felicidade_2023_grupo_3['PIB Categoria'] = pd.cut(df_pib_felicidade_2023_grupo_3['Logged GDP per capita'], bins=[-float('inf'), quartis[0.33], quartis[0.66], float('inf')], labels=['Baixo', 'Médio', 'Alto'])\n",
    "\n",
    "# Cria os boxplots para comparar as distribuições do Índice de Felicidade em categorias de PIB\n",
    "plt.figure(figsize=(10, 6))\n",
    "sns.boxplot(x='PIB Categoria', y='Ladder score', data=df_pib_felicidade_2023_grupo_3)\n",
    "\n",
    "# Adiciona título e rótulos aos eixos\n",
    "plt.title('Distribuição do Índice de Felicidade por Categoria de PIB (Grupo 3)')\n",
    "plt.xlabel('Categoria de PIB')\n",
    "plt.ylabel('Índice de Felicidade')\n",
    "\n",
    "# Exibe o gráfico\n",
    "plt.show()"
   ]
  },
  {
   "cell_type": "markdown",
   "metadata": {},
   "source": [
    "## Gráficos de Dispersão - 30 Países Selecionados"
   ]
  },
  {
   "cell_type": "code",
   "execution_count": 879,
   "metadata": {},
   "outputs": [
    {
     "data": {
      "image/png": "[encoded data removed]",
      "text/plain": [
       "<Figure size 1000x600 with 1 Axes>"
      ]
     },
     "metadata": {},
     "output_type": "display_data"
    }
   ],
   "source": [
    "# Cria o gráfico de dispersão para os 30 países selecionados\n",
    "plt.figure(figsize=(10, 6))\n",
    "plt.scatter(df_pib_felicidade_2023_30_paises['Logged GDP per capita'], df_pib_felicidade_2023_30_paises['Ladder score'], color='purple')\n",
    "\n",
    "# Adiciona título e rótulos aos eixos\n",
    "plt.title('Relação entre o Índice de Felicidade e o PIB per Capita (30 Países Selecionados)')\n",
    "plt.xlabel('PIB per Capita (Log)')\n",
    "plt.ylabel('Índice de Felicidade')\n",
    "\n",
    "# Adiciona uma grade ao gráfico\n",
    "plt.grid(True)\n",
    "\n",
    "# Exibe o gráfico\n",
    "plt.show()"
   ]
  },
  {
   "cell_type": "markdown",
   "metadata": {},
   "source": [
    "## Boxplots - Distribuições em categorias de PIB (baixo, médio, alto) - 30 Países Selecionados"
   ]
  },
  {
   "cell_type": "code",
   "execution_count": 880,
   "metadata": {},
   "outputs": [
    {
     "data": {
      "image/png": "[encoded data removed]",
      "text/plain": [
       "<Figure size 1000x600 with 1 Axes>"
      ]
     },
     "metadata": {},
     "output_type": "display_data"
    }
   ],
   "source": [
    "# Categoriza os países dos 30 países selecionados em três categorias de PIB (baixo, médio, alto)\n",
    "quartis = df_pib_felicidade_2023_30_paises['Logged GDP per capita'].quantile([0.33, 0.66])\n",
    "df_pib_felicidade_2023_30_paises['PIB Categoria'] = pd.cut(df_pib_felicidade_2023_30_paises['Logged GDP per capita'], bins=[-float('inf'), quartis[0.33], quartis[0.66], float('inf')], labels=['Baixo', 'Médio', 'Alto'])\n",
    "\n",
    "# Cria os boxplots para comparar as distribuições do Índice de Felicidade em categorias de PIB\n",
    "plt.figure(figsize=(10, 6))\n",
    "sns.boxplot(x='PIB Categoria', y='Ladder score', data=df_pib_felicidade_2023_30_paises)\n",
    "\n",
    "# Adiciona título e rótulos aos eixos\n",
    "plt.title('Distribuição do Índice de Felicidade por Categoria de PIB (30 Países Selecionados)')\n",
    "plt.xlabel('Categoria de PIB')\n",
    "plt.ylabel('Índice de Felicidade')\n",
    "\n",
    "# Exibe o gráfico\n",
    "plt.show()"
   ]
  },
  {
   "cell_type": "markdown",
   "metadata": {},
   "source": [
    "# 5. Modelagem Estatística\n",
    "\n",
    "Correlações:\n",
    "Calcule o coeficiente de correlação de Pearson:\n",
    "Fórmula ou corr() no Python.\n",
    "𝑟\n",
    "r entre -1 (forte negativa) e +1 (forte positiva).\n",
    "Regressão linear:\n",
    "Use um modelo para prever felicidade com base no PIB:\n",
    "Fórmula: \n",
    "𝐹\n",
    "𝑒\n",
    "𝑙\n",
    "𝑖\n",
    "𝑐\n",
    "𝑖\n",
    "𝑑\n",
    "𝑎\n",
    "𝑑\n",
    "𝑒\n",
    "=\n",
    "𝛽\n",
    "0\n",
    "+\n",
    "𝛽\n",
    "1\n",
    "(\n",
    "𝑃\n",
    "𝐼\n",
    "𝐵\n",
    ")\n",
    "+\n",
    "𝜖\n",
    "Felicidade=β \n",
    "0\n",
    "​\n",
    " +β \n",
    "1\n",
    "​\n",
    " (PIB)+ϵ.\n",
    "Calcule \n",
    "𝑅\n",
    "2\n",
    "R \n",
    "2\n",
    "  (quanto do índice de felicidade é explicado pelo PIB).\n",
    "Teste de significância:\n",
    "Verifique p-valores para \n",
    "𝛽\n",
    "1\n",
    "β \n",
    "1\n",
    "​\n",
    " .\n",
    "𝑝\n",
    "<\n",
    "0.05\n",
    "p<0.05 indica significância estatística.\n",
    "Explorar relações não lineares (se necessário):\n",
    "Experimente transformações logarítmicas no PIB ou felicidade.\n",
    "Ferramentas úteis:\n",
    "\n",
    "Python: statsmodels ou sklearn.\n",
    "Excel: ferramenta de Análise de Dados.\n",
    "\n",
    "</br>\n",
    "\n",
    "___\n",
    "\n",
    "</br>"
   ]
  },
  {
   "cell_type": "markdown",
   "metadata": {},
   "source": [
    "# 6. Interpretação dos Resultados\n",
    "\n",
    "Correlações:\n",
    "Explique a força e a direção da relação baseada no valor de \n",
    "𝑟\n",
    "r.\n",
    "Exemplo: \"Um \n",
    "𝑟\n",
    "=\n",
    "0.7\n",
    "r=0.7 indica uma forte relação positiva.\"\n",
    "Regressão:\n",
    "Explique o coeficiente \n",
    "𝛽\n",
    "1\n",
    "β \n",
    "1\n",
    "​\n",
    " :\n",
    "Exemplo: \"Para cada aumento de 1.000 USD no PIB per capita, o índice de felicidade aumenta em 0,5 pontos.\"\n",
    "Relevância prática:\n",
    "Discuta se o PIB explica bem a felicidade ou se outros fatores devem ser considerados.\n",
    "\n",
    "</br>\n",
    "\n",
    "___\n",
    "\n",
    "</br>"
   ]
  },
  {
   "cell_type": "markdown",
   "metadata": {},
   "source": [
    "# 7. Comunicação dos Resultados\n",
    "\n",
    "Visualizações:\n",
    "Crie gráficos intuitivos:\n",
    "Gráficos de dispersão com linha de tendência.\n",
    "Gráficos de barras comparando grupos de PIB.\n",
    "Resumo em texto:\n",
    "Redija um relatório claro destacando:\n",
    "Principais descobertas.\n",
    "Limitações (por exemplo, a felicidade pode depender de outros fatores).\n",
    "Adapte-se ao público:\n",
    "Use linguagem técnica para especialistas.\n",
    "Para não-especialistas, explique conceitos estatísticos de forma simples.\n",
    "Ferramentas úteis:\n",
    "\n",
    "PowerPoint, Tableau ou Canva.\n",
    "\n",
    "</br>\n",
    "\n",
    "___\n",
    "\n",
    "</br>"
   ]
  },
  {
   "cell_type": "markdown",
   "metadata": {},
   "source": [
    "# 8. Reflexão e Próximos Passos\n",
    "\n",
    "Validação:\n",
    "Use dados de outro ano para verificar se os resultados são consistentes.\n",
    "Considerar variáveis adicionais:\n",
    "Inclua outros fatores como desigualdade de renda, educação ou saúde.\n",
    "Aprofundar análises:\n",
    "Realize estudos comparativos regionais.\n",
    "\n",
    "</br>\n",
    "\n",
    "___\n",
    "\n",
    "</br>"
   ]
  }
 ],
 "metadata": {
  "kernelspec": {
   "display_name": "base",
   "language": "python",
   "name": "python3"
  },
  "language_info": {
   "codemirror_mode": {
    "name": "ipython",
    "version": 3
   },
   "file_extension": ".py",
   "mimetype": "text/x-python",
   "name": "python",
   "nbconvert_exporter": "python",
   "pygments_lexer": "ipython3",
   "version": "3.12.4"
  }
 },
 "nbformat": 4,
 "nbformat_minor": 2
}
