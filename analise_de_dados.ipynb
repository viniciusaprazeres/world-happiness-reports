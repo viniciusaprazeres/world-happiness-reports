{
 "cells": [
  {
   "cell_type": "markdown",
   "metadata": {},
   "source": [
    "# 1. Definição do Problema e Objetivo\n",
    "\n",
    "## Pergunta de pesquisa:\n",
    "- Existe uma relação entre o índice de felicidade e o PIB per capita? A relação é linear?\n",
    "\n",
    "## Objetivo:\n",
    "- Entender se o PIB per capita é um fator que influencia o índice de felicidade.\n",
    "- Examinar a força e o tipo de relação (positiva, negativa, inexistente).\n",
    "\n",
    "</br>\n",
    "\n",
    "___\n",
    "\n",
    "</br>\n"
   ]
  },
  {
   "cell_type": "markdown",
   "metadata": {},
   "source": [
    "# 2. Coleta de Dados\n",
    "\n",
    "#### Base de Dados: **World Happiness Reports 2013-2023**\n",
    "\n",
    "#### Fonte: https://www.kaggle.com/datasets/joebeachcapital/world-happiness-report-2013-2023\n",
    "\n",
    "#### Ferramentas: Jupyter Notebook, Python, Pandas.\n",
    "\n",
    "</br>\n",
    "\n",
    "___\n",
    "\n",
    "</br>"
   ]
  },
  {
   "cell_type": "code",
   "execution_count": 1,
   "metadata": {},
   "outputs": [],
   "source": [
    "# Importa a biblioteca Pandas para análise de dados\n",
    "import pandas as pd\n",
    "\n",
    "# Importa e usa o pacote 'os' para mudar o diretório base do Python\n",
    "import os"
   ]
  },
  {
   "cell_type": "code",
   "execution_count": 2,
   "metadata": {},
   "outputs": [
    {
     "name": "stdout",
     "output_type": "stream",
     "text": [
      "Diretório inicial: C:\\Users\\10784421\\Downloads\\Trabalho de Computação - Grupo I\\Análise de Dados\n"
     ]
    },
    {
     "ename": "FileNotFoundError",
     "evalue": "[WinError 3] O sistema não pode encontrar o caminho especificado: 'C:\\\\Users\\\\vinic\\\\Meu Drive\\\\Trabalho de Computação - Grupo I\\\\Análise de Dados'",
     "output_type": "error",
     "traceback": [
      "\u001b[1;31m---------------------------------------------------------------------------\u001b[0m",
      "\u001b[1;31mFileNotFoundError\u001b[0m                         Traceback (most recent call last)",
      "Cell \u001b[1;32mIn[2], line 5\u001b[0m\n\u001b[0;32m      2\u001b[0m \u001b[38;5;28mprint\u001b[39m(\u001b[38;5;124m'\u001b[39m\u001b[38;5;124mDiretório inicial: \u001b[39m\u001b[38;5;132;01m{}\u001b[39;00m\u001b[38;5;124m'\u001b[39m\u001b[38;5;241m.\u001b[39mformat(os\u001b[38;5;241m.\u001b[39mgetcwd()))\n\u001b[0;32m      4\u001b[0m \u001b[38;5;66;03m# Muda para o diretório contendo a base de dados\u001b[39;00m\n\u001b[1;32m----> 5\u001b[0m os\u001b[38;5;241m.\u001b[39mchdir(\u001b[38;5;124mr\u001b[39m\u001b[38;5;124m'\u001b[39m\u001b[38;5;124mC:\u001b[39m\u001b[38;5;124m\\\u001b[39m\u001b[38;5;124mUsers\u001b[39m\u001b[38;5;124m\\\u001b[39m\u001b[38;5;124mvinic\u001b[39m\u001b[38;5;124m\\\u001b[39m\u001b[38;5;124mMeu Drive\u001b[39m\u001b[38;5;124m\\\u001b[39m\u001b[38;5;124mTrabalho de Computação - Grupo I\u001b[39m\u001b[38;5;124m\\\u001b[39m\u001b[38;5;124mAnálise de Dados\u001b[39m\u001b[38;5;124m'\u001b[39m)\n\u001b[0;32m      6\u001b[0m \u001b[38;5;28mprint\u001b[39m(\u001b[38;5;124m'\u001b[39m\u001b[38;5;124mDiretório final: \u001b[39m\u001b[38;5;132;01m{}\u001b[39;00m\u001b[38;5;124m'\u001b[39m\u001b[38;5;241m.\u001b[39mformat(os\u001b[38;5;241m.\u001b[39mgetcwd()))\n",
      "\u001b[1;31mFileNotFoundError\u001b[0m: [WinError 3] O sistema não pode encontrar o caminho especificado: 'C:\\\\Users\\\\vinic\\\\Meu Drive\\\\Trabalho de Computação - Grupo I\\\\Análise de Dados'"
     ]
    }
   ],
   "source": [
    "# O diretório no qual o Python está trabalhando:\n",
    "print('Diretório inicial: {}'.format(os.getcwd()))\n",
    "\n",
    "# Muda para o diretório contendo a base de dados\n",
    "os.chdir(r'C:\\Users\\vinic\\Meu Drive\\Trabalho de Computação - Grupo I\\Análise de Dados')\n",
    "print('Diretório final: {}'.format(os.getcwd()))"
   ]
  },
  {
   "cell_type": "code",
   "execution_count": null,
   "metadata": {},
   "outputs": [],
   "source": [
    "# Lista os arquivos no diretório\n",
    "os.listdir()"
   ]
  },
  {
   "cell_type": "code",
   "execution_count": null,
   "metadata": {},
   "outputs": [],
   "source": [
    "# Lendo o arquivo CSV da base de dados e armazenando em um DataFrame\n",
    "df_pib_felicidade_2023 = pd.read_csv('World Happiness Report 2023.csv', sep=',', encoding='utf8')\n",
    "\n",
    "# Coletando apenas as colunas 'Ladder score (Índice de Felicidade)' e 'Logged GDP per capita (PIB per capita)'\n",
    "df_pib_felicidade_2023 = df_pib_felicidade_2023[['Country name', 'Logged GDP per capita', 'Ladder score']]"
   ]
  },
  {
   "cell_type": "code",
   "execution_count": null,
   "metadata": {},
   "outputs": [],
   "source": [
    "# Retorna as informações técnicas sobre o DataFrame\n",
    "df_pib_felicidade_2023.info(memory_usage='deep')"
   ]
  },
  {
   "cell_type": "code",
   "execution_count": null,
   "metadata": {},
   "outputs": [],
   "source": [
    "# Ordena (decrescente) pelo Índice de Felicidade e armazena os dados dos 10 maiores em um novo DataFrame\n",
    "df_pib_felicidade_2023_grupo_1 = df_pib_felicidade_2023.sort_values(by='Ladder score', ascending=False).head(10)\n",
    "\n",
    "# Exibe o DataFrame\n",
    "df_pib_felicidade_2023_grupo_1"
   ]
  },
  {
   "cell_type": "code",
   "execution_count": null,
   "metadata": {},
   "outputs": [],
   "source": [
    "# Calcula a diferença absoluta entre o Ladder score e o ponto médio entre os extremos do intervalo do índice de felicidade [1.859, 7.804]: 4.832\n",
    "df_pib_felicidade_2023['diff'] = abs(df_pib_felicidade_2023['Ladder score'] - 4.832)\n",
    "\n",
    "# Ordena os países pela diferença e seleciona os 10 mais próximos\n",
    "df_pib_felicidade_2023_grupo_2 = df_pib_felicidade_2023.sort_values(by='diff').head(10)\n",
    "\n",
    "# Ordena de forma decrescente pelo Ladder score\n",
    "df_pib_felicidade_2023_grupo_2 = df_pib_felicidade_2023_grupo_2.sort_values(by='Ladder score', ascending=False)\n",
    "\n",
    "# Remove a coluna de diferença\n",
    "df_pib_felicidade_2023_grupo_2 = df_pib_felicidade_2023_grupo_2.drop(columns=['diff'])\n",
    "\n",
    "# Exibe o DataFrame\n",
    "df_pib_felicidade_2023_grupo_2"
   ]
  },
  {
   "cell_type": "code",
   "execution_count": null,
   "metadata": {},
   "outputs": [],
   "source": [
    "# Remove a coluna de diferença\n",
    "df_pib_felicidade_2023 = df_pib_felicidade_2023.drop(columns=['diff'])\n",
    "\n",
    "# Ordena (decrescente) pelo Índice de Felicidade e armazena os dados dos 10 menores em um novo DataFrame\n",
    "df_pib_felicidade_2023_grupo_3 = df_pib_felicidade_2023.sort_values(by='Ladder score', ascending=False).tail(10)\n",
    "\n",
    "# Exibe o DataFrame\n",
    "df_pib_felicidade_2023_grupo_3\n"
   ]
  },
  {
   "cell_type": "markdown",
   "metadata": {},
   "source": [
    "# 3. Limpeza e Preparação dos Dados\n",
    "___\n",
    "\n",
    "</br>"
   ]
  },
  {
   "cell_type": "code",
   "execution_count": null,
   "metadata": {},
   "outputs": [],
   "source": [
    "# Verifica se há valores ausentes no DataFrame\n",
    "valores_ausentes = df_pib_felicidade_2023.isnull().sum()\n",
    "print(f\"Número de valores ausentes por coluna: \\n{valores_ausentes}\")\n",
    "\n",
    "# Verifica se há países duplicados no DataFrame\n",
    "duplicatas = df_pib_felicidade_2023[df_pib_felicidade_2023.duplicated(subset='Country name', keep=False)]\n",
    "\n",
    "if duplicatas.empty:\n",
    "    print(\"\\nNão há países duplicados no DataFrame.\")\n",
    "else:\n",
    "    print(f\"\\nPaíses duplicados: {duplicatas}\")"
   ]
  },
  {
   "cell_type": "code",
   "execution_count": null,
   "metadata": {},
   "outputs": [],
   "source": [
    "# Obtém os nomes dos países de cada dataframe dos grupos 1, 2 e 3\n",
    "paises_grupo_1 = set(df_pib_felicidade_2023_grupo_1['Country name'])\n",
    "paises_grupo_2 = set(df_pib_felicidade_2023_grupo_2['Country name'])\n",
    "paises_grupo_3 = set(df_pib_felicidade_2023_grupo_3['Country name'])\n",
    "\n",
    "# Encontra a interseção dos três conjuntos\n",
    "paises_comuns = paises_grupo_1 & paises_grupo_2 & paises_grupo_3\n",
    "\n",
    "# Exibe os países comuns (se houver)\n",
    "if paises_comuns:\n",
    "\tprint(f\"Países com nomes iguais entre os três dataframes: {paises_comuns}\")\n",
    "else:\n",
    "\tprint(\"Não há países com nomes iguais entre os três dataframes\")"
   ]
  },
  {
   "cell_type": "code",
   "execution_count": null,
   "metadata": {},
   "outputs": [],
   "source": [
    "# Junta os três dataframes em um novo dataframe com os 30 países selecionados\n",
    "df_pib_felicidade_2023_30_paises = pd.concat([df_pib_felicidade_2023_grupo_1, df_pib_felicidade_2023_grupo_2, df_pib_felicidade_2023_grupo_3], ignore_index=True).sort_values(by='Ladder score', ascending=False)\n",
    "\n",
    "# Exibe o novo dataframe combinado\n",
    "df_pib_felicidade_2023_30_paises"
   ]
  },
  {
   "cell_type": "markdown",
   "metadata": {},
   "source": [
    "# 4. Análise Exploratória dos Dados\n",
    "\n",
    "___\n",
    "\n",
    "</br>"
   ]
  },
  {
   "cell_type": "markdown",
   "metadata": {},
   "source": [
    "## Estatísticas Descritivas - Grupo 1"
   ]
  },
  {
   "cell_type": "code",
   "execution_count": null,
   "metadata": {},
   "outputs": [],
   "source": [
    "# Descreve e armazena uma tabela de estatísticas descritivas das colunas numéricas do DataFrame\n",
    "estatisticas_grupo_1 = df_pib_felicidade_2023_grupo_1.describe()\n",
    "\n",
    "# Seleciona apenas as colunas numéricas do DataFrame\n",
    "df_pib_felicidade_2023_grupo_1_numerico = df_pib_felicidade_2023_grupo_1.select_dtypes(include=['float64'])\n",
    "\n",
    "# Calcula o desvio padrão ao quadrado (variância) dos dados e adiciona ao DataFrame de descrição\n",
    "desvio_padrao_ao_quadrado_grupo_1 = df_pib_felicidade_2023_grupo_1_numerico.std() ** 2\n",
    "estatisticas_grupo_1.loc['var'] = desvio_padrao_ao_quadrado_grupo_1\n",
    "\n",
    "# Reordena as linhas para colocar a variância antes do desvio padrão e após a média\n",
    "estatisticas_grupo_1 = estatisticas_grupo_1.loc[['count', 'mean', 'var', 'std', 'min', '25%', '50%', '75%', 'max'] + [col for col in estatisticas_grupo_1.index if col not in ['count', 'mean', 'var', 'std', 'min', '25%', '50%', '75%', 'max']]]\n",
    "\n",
    "# Exibe a tabela de estatísticas descritivas\n",
    "estatisticas_grupo_1"
   ]
  },
  {
   "cell_type": "markdown",
   "metadata": {},
   "source": [
    "## Estatísticas Descritivas - Grupo 2"
   ]
  },
  {
   "cell_type": "code",
   "execution_count": null,
   "metadata": {
    "vscode": {
     "languageId": "ruby"
    }
   },
   "outputs": [],
   "source": [
    "# Descreve e armazena uma tabela de estatísticas descritivas das colunas numéricas do DataFrame\n",
    "estatisticas_grupo_2 = df_pib_felicidade_2023_grupo_2.describe()\n",
    "\n",
    "# Seleciona apenas as colunas numéricas do DataFrame \n",
    "df_pib_felicidade_2023_grupo_2_numerico = df_pib_felicidade_2023_grupo_2.select_dtypes(include=['float64'])\n",
    "\n",
    "# Calcula o desvio padrão ao quadrado (variância) dos dados e adiciona ao DataFrame de descrição\n",
    "desvio_padrao_ao_quadrado_grupo_2 = df_pib_felicidade_2023_grupo_2_numerico.std() ** 2\n",
    "estatisticas_grupo_2.loc['var'] = desvio_padrao_ao_quadrado_grupo_2\n",
    "\n",
    "# Reordena as linhas para colocar a variância antes do desvio padrão e após a média\n",
    "estatisticas_grupo_2 = estatisticas_grupo_2.loc[['count', 'mean', 'var', 'std', 'min', '25%', '50%', '75%', 'max'] + [col for col in estatisticas_grupo_2.index if col not in ['count', 'mean', 'var', 'std', 'min', '25%', '50%', '75%', 'max']]]\n",
    "\n",
    "# Exibe a tabela de estatísticas descritivas\n",
    "estatisticas_grupo_2"
   ]
  },
  {
   "cell_type": "markdown",
   "metadata": {},
   "source": [
    "## Estatísticas Descritivas - Grupo 3"
   ]
  },
  {
   "cell_type": "code",
   "execution_count": null,
   "metadata": {
    "vscode": {
     "languageId": "ruby"
    }
   },
   "outputs": [],
   "source": [
    "# Descreve e armazena uma tabela de estatísticas descritivas das colunas numéricas do DataFrame\n",
    "estatisticas_grupo_3 = df_pib_felicidade_2023_grupo_3.describe()\n",
    "\n",
    "# Seleciona apenas as colunas numéricas do DataFrame \n",
    "df_pib_felicidade_2023_grupo_3_numerico = df_pib_felicidade_2023_grupo_3.select_dtypes(include=['float64'])\n",
    "\n",
    "# Calcula o desvio padrão ao quadrado (variância) dos dados e adiciona ao DataFrame de descrição\n",
    "desvio_padrao_ao_quadrado_grupo_3 = df_pib_felicidade_2023_grupo_3_numerico.std() ** 2\n",
    "estatisticas_grupo_3.loc['var'] = desvio_padrao_ao_quadrado_grupo_3\n",
    "\n",
    "# Reordena as linhas para colocar a variância antes do desvio padrão e após a média\n",
    "estatisticas_grupo_3 = estatisticas_grupo_3.loc[['count', 'mean', 'var', 'std', 'min', '25%', '50%', '75%', 'max'] + [col for col in estatisticas_grupo_3.index if col not in ['count', 'mean', 'var', 'std', 'min', '25%', '50%', '75%', 'max']]]\n",
    "\n",
    "# Exibe a tabela de estatísticas descritivas\n",
    "estatisticas_grupo_3"
   ]
  },
  {
   "cell_type": "markdown",
   "metadata": {},
   "source": [
    "## Estatísticas Descritivas - 30 Países Selecionados"
   ]
  },
  {
   "cell_type": "code",
   "execution_count": null,
   "metadata": {
    "vscode": {
     "languageId": "ruby"
    }
   },
   "outputs": [],
   "source": [
    "# Descreve e armazena uma tabela de estatísticas descritivas das colunas numéricas do DataFrame\n",
    "estatisticas_30_paises = df_pib_felicidade_2023_30_paises.describe()\n",
    "\n",
    "# Seleciona apenas as colunas numéricas do DataFrame \n",
    "df_pib_felicidade_2023_30_paises_numerico = df_pib_felicidade_2023_30_paises.select_dtypes(include=['float64'])\n",
    "\n",
    "# Calcula o desvio padrão ao quadrado (variância) dos dados e adiciona ao DataFrame de descrição\n",
    "desvio_padrao_ao_quadrado_30_paises = df_pib_felicidade_2023_30_paises_numerico.std() ** 2\n",
    "estatisticas_30_paises.loc['var'] = desvio_padrao_ao_quadrado_30_paises\n",
    "\n",
    "# Reordena as linhas para colocar a variância antes do desvio padrão e após a média\n",
    "estatisticas_30_paises = estatisticas_30_paises.loc[['count', 'mean', 'var', 'std', 'min', '25%', '50%', '75%', 'max'] + [col for col in estatisticas_30_paises.index if col not in ['count', 'mean', 'var', 'std', 'min', '25%', '50%', '75%', 'max']]]\n",
    "\n",
    "# Exibe a tabela de estatísticas descritivas\n",
    "estatisticas_30_paises"
   ]
  },
  {
   "cell_type": "markdown",
   "metadata": {},
   "source": [
    "# Gráficos de Dispersão - Grupo 1"
   ]
  },
  {
   "cell_type": "code",
   "execution_count": null,
   "metadata": {},
   "outputs": [],
   "source": [
    "import matplotlib.pyplot as plt\n",
    "\n",
    "# Cria o gráfico de dispersão\n",
    "plt.figure(figsize=(10, 6))\n",
    "plt.scatter(df_pib_felicidade_2023_grupo_1['Logged GDP per capita'], df_pib_felicidade_2023_grupo_1['Ladder score'], color='blue')\n",
    "\n",
    "# Adiciona título e rótulos aos eixos\n",
    "plt.title('Relação entre o Índice de Felicidade e o PIB per Capita (Grupo 1)')\n",
    "plt.xlabel('PIB per Capita (Log)')\n",
    "plt.ylabel('Índice de Felicidade')\n",
    "\n",
    "# Adiciona uma grade ao gráfico\n",
    "plt.grid(True)\n",
    "\n",
    "# Exibe o gráfico\n",
    "plt.show()"
   ]
  },
  {
   "cell_type": "markdown",
   "metadata": {},
   "source": [
    "## Boxplots - Distribuições em categorias de PIB (baixo, médio, alto) - Grupo 1"
   ]
  },
  {
   "cell_type": "code",
   "execution_count": null,
   "metadata": {
    "vscode": {
     "languageId": "ruby"
    }
   },
   "outputs": [],
   "source": [
    "# Importa a biblioteca Seaborn para visualização de dados\n",
    "import seaborn as sns\n",
    "\n",
    "# Categoriza os países do grupo 1 em três categorias de PIB (baixo, médio, alto)\n",
    "quartis = df_pib_felicidade_2023_grupo_1['Logged GDP per capita'].quantile([0.33, 0.66])\n",
    "df_pib_felicidade_2023_grupo_1['PIB Categoria'] = pd.cut(df_pib_felicidade_2023_grupo_1['Logged GDP per capita'], bins=[-float('inf'), quartis[0.33], quartis[0.66], float('inf')], labels=['Baixo', 'Médio', 'Alto'])\n",
    "\n",
    "# Cria os boxplots para comparar as distribuições do Índice de Felicidade em categorias de PIB\n",
    "plt.figure(figsize=(10, 6))\n",
    "sns.boxplot(x='PIB Categoria', y='Ladder score', data=df_pib_felicidade_2023_grupo_1)\n",
    "\n",
    "# Adiciona título e rótulos aos eixos\n",
    "plt.title('Distribuição do Índice de Felicidade por Categoria de PIB (Grupo 1)')\n",
    "plt.xlabel('Categoria de PIB')\n",
    "plt.ylabel('Índice de Felicidade')\n",
    "\n",
    "# Exibe o gráfico\n",
    "plt.show()"
   ]
  },
  {
   "cell_type": "markdown",
   "metadata": {},
   "source": []
  },
  {
   "cell_type": "markdown",
   "metadata": {},
   "source": []
  },
  {
   "cell_type": "markdown",
   "metadata": {},
   "source": [
    "# Gráficos de Dispersão - Grupo 2"
   ]
  },
  {
   "cell_type": "code",
   "execution_count": null,
   "metadata": {},
   "outputs": [],
   "source": [
    "# Cria o gráfico de dispersão\n",
    "plt.figure(figsize=(10, 6))\n",
    "plt.scatter(df_pib_felicidade_2023_grupo_2['Logged GDP per capita'], df_pib_felicidade_2023_grupo_2['Ladder score'], color='green')\n",
    "\n",
    "# Adiciona título e rótulos aos eixos\n",
    "plt.title('Relação entre o Índice de Felicidade e o PIB per Capita (Grupo 2)')\n",
    "plt.xlabel('PIB per Capita (Log)')\n",
    "plt.ylabel('Índice de Felicidade')\n",
    "\n",
    "# Adiciona uma grade ao gráfico\n",
    "plt.grid(True)\n",
    "\n",
    "# Exibe o gráfico\n",
    "plt.show()"
   ]
  },
  {
   "cell_type": "markdown",
   "metadata": {},
   "source": [
    "## Boxplots - Distribuições em categorias de PIB (baixo, médio, alto) - Grupo 2"
   ]
  },
  {
   "cell_type": "code",
   "execution_count": null,
   "metadata": {},
   "outputs": [],
   "source": [
    "# Categoriza os países do grupo 2 em três categorias de PIB (baixo, médio, alto)\n",
    "quartis = df_pib_felicidade_2023_grupo_2['Logged GDP per capita'].quantile([0.33, 0.66])\n",
    "df_pib_felicidade_2023_grupo_2['PIB Categoria'] = pd.cut(df_pib_felicidade_2023_grupo_2['Logged GDP per capita'], bins=[-float('inf'), quartis[0.33], quartis[0.66], float('inf')], labels=['Baixo', 'Médio', 'Alto'])\n",
    "\n",
    "# Cria os boxplots para comparar as distribuições do Índice de Felicidade em categorias de PIB\n",
    "plt.figure(figsize=(10, 6))\n",
    "sns.boxplot(x='PIB Categoria', y='Ladder score', data=df_pib_felicidade_2023_grupo_2)\n",
    "\n",
    "# Adiciona título e rótulos aos eixos\n",
    "plt.title('Distribuição do Índice de Felicidade por Categoria de PIB (Grupo 2)')\n",
    "plt.xlabel('Categoria de PIB')\n",
    "plt.ylabel('Índice de Felicidade')\n",
    "\n",
    "# Exibe o gráfico\n",
    "plt.show()"
   ]
  },
  {
   "cell_type": "markdown",
   "metadata": {},
   "source": [
    "# Gráficos de Dispersão - Grupo 3"
   ]
  },
  {
   "cell_type": "code",
   "execution_count": null,
   "metadata": {},
   "outputs": [],
   "source": [
    "# Cria o gráfico de dispersão\n",
    "plt.figure(figsize=(10, 6))\n",
    "plt.scatter(df_pib_felicidade_2023_grupo_3['Logged GDP per capita'], df_pib_felicidade_2023_grupo_3['Ladder score'], color='red')\n",
    "\n",
    "# Adiciona título e rótulos aos eixos\n",
    "plt.title('Relação entre o Índice de Felicidade e o PIB per Capita (Grupo 3)')\n",
    "plt.xlabel('PIB per Capita (Log)')\n",
    "plt.ylabel('Índice de Felicidade')\n",
    "\n",
    "# Adiciona uma grade ao gráfico\n",
    "plt.grid(True)\n",
    "\n",
    "# Exibe o gráfico\n",
    "plt.show()"
   ]
  },
  {
   "cell_type": "markdown",
   "metadata": {},
   "source": [
    "## Boxplots - Distribuições em categorias de PIB (baixo, médio, alto) - Grupo 3"
   ]
  },
  {
   "cell_type": "code",
   "execution_count": null,
   "metadata": {},
   "outputs": [],
   "source": [
    "# Categoriza os países do grupo 3 em três categorias de PIB (baixo, médio, alto)\n",
    "quartis = df_pib_felicidade_2023_grupo_3['Logged GDP per capita'].quantile([0.33, 0.66])\n",
    "df_pib_felicidade_2023_grupo_3['PIB Categoria'] = pd.cut(df_pib_felicidade_2023_grupo_3['Logged GDP per capita'], bins=[-float('inf'), quartis[0.33], quartis[0.66], float('inf')], labels=['Baixo', 'Médio', 'Alto'])\n",
    "\n",
    "# Cria os boxplots para comparar as distribuições do Índice de Felicidade em categorias de PIB\n",
    "plt.figure(figsize=(10, 6))\n",
    "sns.boxplot(x='PIB Categoria', y='Ladder score', data=df_pib_felicidade_2023_grupo_3)\n",
    "\n",
    "# Adiciona título e rótulos aos eixos\n",
    "plt.title('Distribuição do Índice de Felicidade por Categoria de PIB (Grupo 3)')\n",
    "plt.xlabel('Categoria de PIB')\n",
    "plt.ylabel('Índice de Felicidade')\n",
    "\n",
    "# Exibe o gráfico\n",
    "plt.show()"
   ]
  },
  {
   "cell_type": "markdown",
   "metadata": {},
   "source": [
    "## Gráficos de Dispersão - 30 Países Selecionados"
   ]
  },
  {
   "cell_type": "code",
   "execution_count": null,
   "metadata": {},
   "outputs": [],
   "source": [
    "# Cria o gráfico de dispersão para os 30 países selecionados\n",
    "plt.figure(figsize=(10, 6))\n",
    "plt.scatter(df_pib_felicidade_2023_30_paises['Logged GDP per capita'], df_pib_felicidade_2023_30_paises['Ladder score'], color='purple')\n",
    "\n",
    "# Adiciona título e rótulos aos eixos\n",
    "plt.title('Relação entre o Índice de Felicidade e o PIB per Capita (30 Países Selecionados)')\n",
    "plt.xlabel('PIB per Capita (Log)')\n",
    "plt.ylabel('Índice de Felicidade')\n",
    "\n",
    "# Adiciona uma grade ao gráfico\n",
    "plt.grid(True)\n",
    "\n",
    "# Exibe o gráfico\n",
    "plt.show()"
   ]
  },
  {
   "cell_type": "markdown",
   "metadata": {},
   "source": [
    "## Boxplots - Distribuições em categorias de PIB (baixo, médio, alto) - 30 Países Selecionados"
   ]
  },
  {
   "cell_type": "code",
   "execution_count": null,
   "metadata": {},
   "outputs": [],
   "source": [
    "# Categoriza os países dos 30 países selecionados em três categorias de PIB (baixo, médio, alto)\n",
    "quartis = df_pib_felicidade_2023_30_paises['Logged GDP per capita'].quantile([0.33, 0.66])\n",
    "df_pib_felicidade_2023_30_paises['PIB Categoria'] = pd.cut(df_pib_felicidade_2023_30_paises['Logged GDP per capita'], bins=[-float('inf'), quartis[0.33], quartis[0.66], float('inf')], labels=['Baixo', 'Médio', 'Alto'])\n",
    "\n",
    "# Cria os boxplots para comparar as distribuições do Índice de Felicidade em categorias de PIB\n",
    "plt.figure(figsize=(10, 6))\n",
    "sns.boxplot(x='PIB Categoria', y='Ladder score', data=df_pib_felicidade_2023_30_paises)\n",
    "\n",
    "# Adiciona título e rótulos aos eixos\n",
    "plt.title('Distribuição do Índice de Felicidade por Categoria de PIB (30 Países Selecionados)')\n",
    "plt.xlabel('Categoria de PIB')\n",
    "plt.ylabel('Índice de Felicidade')\n",
    "\n",
    "# Exibe o gráfico\n",
    "plt.show()"
   ]
  },
  {
   "cell_type": "markdown",
   "metadata": {},
   "source": [
    "# 5. Modelagem Estatística\n",
    "\n",
    "</br>\n",
    "\n",
    "___\n",
    "\n",
    "</br>"
   ]
  },
  {
   "cell_type": "markdown",
   "metadata": {},
   "source": [
    "## Coeficiente de Correlação de Pearson - Grupo 1"
   ]
  },
  {
   "cell_type": "code",
   "execution_count": null,
   "metadata": {
    "vscode": {
     "languageId": "ini"
    }
   },
   "outputs": [],
   "source": [
    "# Calcula o coeficiente de correlação de Pearson para o grupo 1 usando corr()\n",
    "correlacao_grupo_1_corr = df_pib_felicidade_2023_grupo_1[['Logged GDP per capita', 'Ladder score']].corr().iloc[0, 1]\n",
    "\n",
    "# Exibe o coeficiente de correlação\n",
    "print(f'Coeficiente de Correlação de Pearson para o grupo 1 (usando corr()): {correlacao_grupo_1_corr}')\n"
   ]
  },
  {
   "cell_type": "markdown",
   "metadata": {},
   "source": [
    "## Coeficiente de Correlação de Pearson - Grupo 2"
   ]
  },
  {
   "cell_type": "code",
   "execution_count": null,
   "metadata": {},
   "outputs": [],
   "source": [
    "# Calcula o coeficiente de correlação de Pearson para o grupo 2 usando corr()\n",
    "correlacao_grupo_2_corr = df_pib_felicidade_2023_grupo_2[['Logged GDP per capita', 'Ladder score']].corr().iloc[0, 1]\n",
    "\n",
    "# Exibe o coeficiente de correlação\n",
    "print(f'Coeficiente de Correlação de Pearson para o grupo 2: {correlacao_grupo_2_corr}')"
   ]
  },
  {
   "cell_type": "markdown",
   "metadata": {},
   "source": [
    "## Coeficiente de Correlação de Pearson - Grupo 3"
   ]
  },
  {
   "cell_type": "code",
   "execution_count": null,
   "metadata": {},
   "outputs": [],
   "source": [
    "# Calcula o coeficiente de correlação de Pearson para o grupo 3 usando corr()\n",
    "correlacao_grupo_3_corr = df_pib_felicidade_2023_grupo_3[['Logged GDP per capita', 'Ladder score']].corr().iloc[0, 1]\n",
    "\n",
    "# Exibe o coeficiente de correlação\n",
    "print(f'Coeficiente de Correlação de Pearson para o grupo 3: {correlacao_grupo_3_corr}')"
   ]
  },
  {
   "cell_type": "markdown",
   "metadata": {},
   "source": [
    "## Coeficiente de Correlação de Pearson - 30 Países Selecionados"
   ]
  },
  {
   "cell_type": "code",
   "execution_count": null,
   "metadata": {},
   "outputs": [],
   "source": [
    "# Calcula o coeficiente de correlação de Pearson para os 30 países selecionados usando corr()\n",
    "correlacao_30_paises_corr = df_pib_felicidade_2023_30_paises[['Logged GDP per capita', 'Ladder score']].corr().iloc[0, 1]\n",
    "\n",
    "# Exibe o coeficiente de correlação\n",
    "print(f'Coeficiente de Correlação de Pearson para os 30 países selecionados: {correlacao_30_paises_corr}')"
   ]
  },
  {
   "cell_type": "markdown",
   "metadata": {},
   "source": [
    "## Regressão Linear - Grupo 1"
   ]
  },
  {
   "cell_type": "code",
   "execution_count": null,
   "metadata": {},
   "outputs": [],
   "source": [
    "# Importa a classe LinearRegression do sklearn\n",
    "from sklearn.linear_model import LinearRegression\n",
    "\n",
    "# Define as variáveis preditoras (X) e de resposta (y) para o grupo 1\n",
    "X_grupo_1 = df_pib_felicidade_2023_grupo_1[['Logged GDP per capita']].values.reshape(-1, 1)\n",
    "y_grupo_1 = df_pib_felicidade_2023_grupo_1['Ladder score'].values\n",
    "\n",
    "# Cria e ajusta o modelo de regressão linear para o grupo 1\n",
    "model_grupo_1 = LinearRegression()\n",
    "model_grupo_1.fit(X_grupo_1, y_grupo_1)\n",
    "\n",
    "# Obtém os coeficientes para o grupo 1\n",
    "beta_0_grupo_1 = model_grupo_1.intercept_\n",
    "beta_1_grupo_1 = model_grupo_1.coef_[0]\n",
    "\n",
    "# Exibe os coeficientes\n",
    "print(f'Intercepto (β0) para o grupo 1: {beta_0_grupo_1}')\n",
    "print(f'Coeficiente (β1) para o grupo 1: {beta_1_grupo_1}')\n",
    "\n",
    "# Prediz a felicidade com base no modelo para o grupo 1\n",
    "y_pred_grupo_1 = model_grupo_1.predict(X_grupo_1)\n",
    "\n",
    "# Plota a linha de regressão para o grupo 1\n",
    "plt.figure(figsize=(10, 6))\n",
    "plt.scatter(X_grupo_1, y_grupo_1, color='blue', label='Dados Reais')\n",
    "plt.plot(X_grupo_1, y_pred_grupo_1, color='orange', label='Linha de Regressão')\n",
    "plt.title('Regressão Linear: Índice de Felicidade vs PIB per Capita (Grupo 1)')\n",
    "plt.xlabel('PIB per Capita (Log)')\n",
    "plt.ylabel('Índice de Felicidade')\n",
    "plt.legend()\n",
    "plt.grid(True)\n",
    "plt.show()\n"
   ]
  },
  {
   "cell_type": "markdown",
   "metadata": {},
   "source": [
    "## R²: Quanto do índice de felicidade é explicado pelo PIB - Grupo 1"
   ]
  },
  {
   "cell_type": "code",
   "execution_count": null,
   "metadata": {},
   "outputs": [],
   "source": [
    "# Calcula o coeficiente de determinação R^2 para o grupo 1\n",
    "r2_grupo_1 = model_grupo_1.score(X_grupo_1, y_grupo_1)\n",
    "print(f'Coeficiente de Determinação (R^2) para o grupo 1: {r2_grupo_1}')"
   ]
  },
  {
   "cell_type": "markdown",
   "metadata": {},
   "source": [
    "## Regressão Linear - Grupo 2"
   ]
  },
  {
   "cell_type": "code",
   "execution_count": null,
   "metadata": {},
   "outputs": [],
   "source": [
    "# Define as variáveis preditoras (X) e de resposta (y) para o grupo 2\n",
    "X_grupo_2 = df_pib_felicidade_2023_grupo_2[['Logged GDP per capita']].values.reshape(-1, 1)\n",
    "y_grupo_2 = df_pib_felicidade_2023_grupo_2['Ladder score'].values\n",
    "\n",
    "# Cria e ajusta o modelo de regressão linear para o grupo 2\n",
    "model_grupo_2 = LinearRegression()\n",
    "model_grupo_2.fit(X_grupo_2, y_grupo_2)\n",
    "\n",
    "# Obtém os coeficientes para o grupo 2\n",
    "beta_0_grupo_2 = model_grupo_2.intercept_\n",
    "beta_1_grupo_2 = model_grupo_2.coef_[0]\n",
    "\n",
    "# Exibe os coeficientes\n",
    "print(f'Intercepto (β0) para o grupo 2: {beta_0_grupo_2}')\n",
    "print(f'Coeficiente (β1) para o grupo 2: {beta_1_grupo_2}')\n",
    "\n",
    "# Prediz a felicidade com base no modelo para o grupo 2\n",
    "y_pred_grupo_2 = model_grupo_2.predict(X_grupo_2)\n",
    "\n",
    "# Plota a linha de regressão para o grupo 2\n",
    "plt.figure(figsize=(10, 6))\n",
    "plt.scatter(X_grupo_2, y_grupo_2, color='green', label='Dados Reais')\n",
    "plt.plot(X_grupo_2, y_pred_grupo_2, color='orange', label='Linha de Regressão')\n",
    "plt.title('Regressão Linear: Índice de Felicidade vs PIB per Capita (Grupo 2)')\n",
    "plt.xlabel('PIB per Capita (Log)')\n",
    "plt.ylabel('Índice de Felicidade')\n",
    "plt.legend()\n",
    "plt.grid(True)\n",
    "plt.show()"
   ]
  },
  {
   "cell_type": "markdown",
   "metadata": {},
   "source": [
    "## R²: Quanto do índice de felicidade é explicado pelo PIB - Grupo 2"
   ]
  },
  {
   "cell_type": "code",
   "execution_count": null,
   "metadata": {},
   "outputs": [],
   "source": [
    "# Calcula o coeficiente de determinação R^2 para o grupo 2\n",
    "r2_grupo_2 = model_grupo_2.score(X_grupo_2, y_grupo_2)\n",
    "print(f'Coeficiente de Determinação (R^2) para o grupo 2: {r2_grupo_2}')"
   ]
  },
  {
   "cell_type": "markdown",
   "metadata": {},
   "source": [
    "## Regressão Linear - Grupo 3"
   ]
  },
  {
   "cell_type": "code",
   "execution_count": null,
   "metadata": {},
   "outputs": [],
   "source": [
    "# Define as variáveis preditoras (X) e de resposta (y) para o grupo 3\n",
    "X_grupo_3 = df_pib_felicidade_2023_grupo_3[['Logged GDP per capita']].values.reshape(-1, 1)\n",
    "y_grupo_3 = df_pib_felicidade_2023_grupo_3['Ladder score'].values\n",
    "\n",
    "# Cria e ajusta o modelo de regressão linear para o grupo 3\n",
    "model_grupo_3 = LinearRegression()\n",
    "model_grupo_3.fit(X_grupo_3, y_grupo_3)\n",
    "\n",
    "# Obtém os coeficientes para o grupo 3\n",
    "beta_0_grupo_3 = model_grupo_3.intercept_\n",
    "beta_1_grupo_3 = model_grupo_3.coef_[0]\n",
    "\n",
    "# Exibe os coeficientes\n",
    "print(f'Intercepto (β0) para o grupo 3: {beta_0_grupo_3}')\n",
    "print(f'Coeficiente (β1) para o grupo 3: {beta_1_grupo_3}')\n",
    "\n",
    "# Prediz a felicidade com base no modelo para o grupo 3\n",
    "y_pred_grupo_3 = model_grupo_3.predict(X_grupo_3)\n",
    "\n",
    "# Plota a linha de regressão para o grupo 3\n",
    "plt.figure(figsize=(10, 6))\n",
    "plt.scatter(X_grupo_3, y_grupo_3, color='red', label='Dados Reais')\n",
    "plt.plot(X_grupo_3, y_pred_grupo_3, color='orange', label='Linha de Regressão')\n",
    "plt.title('Regressão Linear: Índice de Felicidade vs PIB per Capita (Grupo 3)')\n",
    "plt.xlabel('PIB per Capita (Log)')\n",
    "plt.ylabel('Índice de Felicidade')\n",
    "plt.legend()\n",
    "plt.grid(True)\n",
    "plt.show()"
   ]
  },
  {
   "cell_type": "markdown",
   "metadata": {},
   "source": [
    "## R²: Quanto do índice de felicidade é explicado pelo PIB - Grupo 3"
   ]
  },
  {
   "cell_type": "code",
   "execution_count": null,
   "metadata": {},
   "outputs": [],
   "source": [
    "# Calcula o coeficiente de determinação R^2 para o grupo 3\n",
    "r2_grupo_3 = model_grupo_3.score(X_grupo_3, y_grupo_3)\n",
    "print(f'Coeficiente de Determinação (R^2) para o grupo 3: {r2_grupo_3}')"
   ]
  },
  {
   "cell_type": "markdown",
   "metadata": {},
   "source": [
    "## Regressão Linear - 30 Países Selecionados"
   ]
  },
  {
   "cell_type": "code",
   "execution_count": null,
   "metadata": {},
   "outputs": [],
   "source": [
    "# Define as variáveis preditoras (X) e de resposta (y) para os 30 países selecionados\n",
    "X_30_paises = df_pib_felicidade_2023_30_paises[['Logged GDP per capita']].values.reshape(-1, 1)\n",
    "y_30_paises = df_pib_felicidade_2023_30_paises['Ladder score'].values\n",
    "\n",
    "# Cria e ajusta o modelo de regressão linear para os 30 países selecionados\n",
    "model_30_paises = LinearRegression()\n",
    "model_30_paises.fit(X_30_paises, y_30_paises)\n",
    "\n",
    "# Obtém os coeficientes para os 30 países selecionados\n",
    "beta_0_30_paises = model_30_paises.intercept_\n",
    "beta_1_30_paises = model_30_paises.coef_[0]\n",
    "\n",
    "# Exibe os coeficientes\n",
    "print(f'Intercepto (β0) para os 30 países selecionados: {beta_0_30_paises}')\n",
    "print(f'Coeficiente (β1) para os 30 países selecionados: {beta_1_30_paises}')\n",
    "\n",
    "# Prediz a felicidade com base no modelo para os 30 países selecionados\n",
    "y_pred_30_paises = model_30_paises.predict(X_30_paises)\n",
    "\n",
    "# Plota a linha de regressão para os 30 países selecionados\n",
    "plt.figure(figsize=(10, 6))\n",
    "plt.scatter(X_30_paises, y_30_paises, color='purple', label='Dados Reais')\n",
    "plt.plot(X_30_paises, y_pred_30_paises, color='orange', label='Linha de Regressão')\n",
    "plt.title('Regressão Linear: Índice de Felicidade vs PIB per Capita (30 Países Selecionados)')\n",
    "plt.xlabel('PIB per Capita (Log)')\n",
    "plt.ylabel('Índice de Felicidade')\n",
    "plt.legend()\n",
    "plt.grid(True)\n",
    "plt.show()"
   ]
  },
  {
   "cell_type": "markdown",
   "metadata": {},
   "source": [
    "## R²: Quanto do índice de felicidade é explicado pelo PIB - 30 Países Selecionados"
   ]
  },
  {
   "cell_type": "code",
   "execution_count": null,
   "metadata": {},
   "outputs": [],
   "source": [
    "# Calcula o coeficiente de determinação R^2 para os 30 países selecionados\n",
    "r2_30_paises = model_30_paises.score(X_30_paises, y_30_paises)\n",
    "print(f'Coeficiente de Determinação (R^2) para os 30 países selecionados: {r2_30_paises}')"
   ]
  },
  {
   "cell_type": "markdown",
   "metadata": {},
   "source": [
    "</br>\n",
    "\n",
    "___\n",
    "\n",
    "</br>"
   ]
  },
  {
   "cell_type": "markdown",
   "metadata": {},
   "source": [
    "# 6. Interpretação dos Resultados"
   ]
  },
  {
   "cell_type": "markdown",
   "metadata": {},
   "source": [
    "## Conclusões das Correlações\n",
    "\n",
    "### Grupo 1\n",
    "A correlação de Pearson para o Grupo 1 é de -0.343. Isso indica uma correlação negativa moderada entre o PIB per capita e o índice de felicidade. Em outras palavras, à medida que o PIB per capita aumenta, o índice de felicidade tende a diminuir ligeiramente para este grupo.\n",
    "\n",
    "### Grupo 2\n",
    "A correlação de Pearson para o Grupo 2 é de 0.157. Isso sugere uma correlação positiva fraca entre o PIB per capita e o índice de felicidade. Portanto, um aumento no PIB per capita está associado a um pequeno aumento no índice de felicidade para este grupo.\n",
    "\n",
    "### Grupo 3\n",
    "A correlação de Pearson para o Grupo 3 é de -0.014. Isso indica uma correlação praticamente inexistente entre o PIB per capita e o índice de felicidade. Assim, para este grupo, o PIB per capita não parece ter uma relação significativa com o índice de felicidade.\n",
    "\n",
    "### 30 Países Selecionados\n",
    "A correlação de Pearson para os 30 países selecionados é de 0.846. Isso indica uma forte correlação positiva entre o PIB per capita e o índice de felicidade. Portanto, um aumento no PIB per capita está fortemente associado a um aumento no índice de felicidade para este conjunto de países.\n",
    "```"
   ]
  },
  {
   "cell_type": "markdown",
   "metadata": {},
   "source": [
    "## Conclusões dos Coeficientes de Regressão Linear (𝛽1)\n",
    "\n",
    "### Grupo 1\n",
    "O coeficiente 𝛽1 para o Grupo 1 é de aproximadamente -0.233. Isso indica que, para cada aumento unitário no PIB per capita (logaritmo), o índice de felicidade diminui em 0.233 pontos. Essa relação negativa sugere que, dentro deste grupo, um maior PIB per capita está associado a uma leve diminuição no índice de felicidade.\n",
    "\n",
    "### Grupo 2\n",
    "O coeficiente 𝛽1 para o Grupo 2 é de aproximadamente 0.024. Isso sugere que, para cada aumento unitário no PIB per capita (logaritmo), o índice de felicidade aumenta em 0.024 pontos. No entanto, esse aumento é muito pequeno, indicando uma relação fraca entre o PIB per capita e o índice de felicidade para este grupo.\n",
    "\n",
    "### Grupo 3\n",
    "O coeficiente 𝛽1 para o Grupo 3 é de aproximadamente -0.010. Isso indica que, para cada aumento unitário no PIB per capita (logaritmo), o índice de felicidade diminui em 0.010 pontos. Essa relação é praticamente inexistente, sugerindo que o PIB per capita não tem um impacto significativo no índice de felicidade para este grupo.\n",
    "\n",
    "### 30 Países Selecionados\n",
    "O coeficiente 𝛽1 para os 30 países selecionados é de aproximadamente 1.024. Isso indica que, para cada aumento unitário no PIB per capita (logaritmo), o índice de felicidade aumenta em 1.024 pontos. Essa relação positiva e significativa sugere que, para este conjunto de países, um maior PIB per capita está fortemente associado a um aumento no índice de felicidade.\n",
    "```"
   ]
  },
  {
   "cell_type": "markdown",
   "metadata": {},
   "source": [
    "## Conclusões dos Coeficientes de Determinação (R²)\n",
    "\n",
    "### Grupo 1\n",
    "O coeficiente de determinação (R²) para o Grupo 1 é de aproximadamente 0.118. Isso indica que cerca de 11.8% da variação no índice de felicidade pode ser explicada pelo PIB per capita para este grupo. Embora haja alguma relação, a maior parte da variação no índice de felicidade é explicada por outros fatores não incluídos no modelo.\n",
    "\n",
    "### Grupo 2\n",
    "O coeficiente de determinação (R²) para o Grupo 2 é de aproximadamente 0.025. Isso sugere que apenas 2.5% da variação no índice de felicidade pode ser explicada pelo PIB per capita para este grupo. A relação entre o PIB per capita e o índice de felicidade é muito fraca, indicando que outros fatores têm um papel muito mais significativo na determinação da felicidade.\n",
    "\n",
    "### Grupo 3\n",
    "O coeficiente de determinação (R²) para o Grupo 3 é de aproximadamente 0.0002. Isso indica que praticamente nenhuma variação no índice de felicidade pode ser explicada pelo PIB per capita para este grupo. O PIB per capita não é um fator relevante para explicar a felicidade neste grupo de países.\n",
    "\n",
    "### 30 Países Selecionados\n",
    "O coeficiente de determinação (R²) para os 30 países selecionados é de aproximadamente 0.715. Isso indica que cerca de 71.5% da variação no índice de felicidade pode ser explicada pelo PIB per capita para este conjunto de países. Há uma forte relação entre o PIB per capita e o índice de felicidade, sugerindo que o PIB per capita é um fator importante na determinação da felicidade para esses países.\n",
    "\n",
    "</br>\n",
    "\n",
    "___\n",
    "\n",
    "</br>"
   ]
  },
  {
   "cell_type": "markdown",
   "metadata": {},
   "source": [
    "# 7. Resumo dos Resultados"
   ]
  },
  {
   "cell_type": "code",
   "execution_count": null,
   "metadata": {},
   "outputs": [],
   "source": [
    "# Calcula a média do índice de felicidade para cada categoria de PIB nos três grupos\n",
    "media_felicidade_grupo_1 = df_pib_felicidade_2023_grupo_1.groupby('PIB Categoria', observed=True)['Ladder score'].mean()\n",
    "media_felicidade_grupo_2 = df_pib_felicidade_2023_grupo_2.groupby('PIB Categoria', observed=True)['Ladder score'].mean()\n",
    "media_felicidade_grupo_3 = df_pib_felicidade_2023_grupo_3.groupby('PIB Categoria', observed=True)['Ladder score'].mean()\n",
    "\n",
    "# Cria um DataFrame com as médias para facilitar a plotagem\n",
    "media_felicidade = pd.DataFrame({\n",
    "    'Grupo 1': media_felicidade_grupo_1,\n",
    "    'Grupo 2': media_felicidade_grupo_2,\n",
    "    'Grupo 3': media_felicidade_grupo_3\n",
    "}).reset_index()\n",
    "\n",
    "# Define a largura das barras\n",
    "bar_width = 0.25\n",
    "\n",
    "# Define a posição das barras no eixo x\n",
    "r1 = range(len(media_felicidade))\n",
    "r2 = [x + bar_width for x in r1]\n",
    "r3 = [x + bar_width for x in r2]\n",
    "\n",
    "# Cria o gráfico de barras\n",
    "plt.figure(figsize=(12, 6))\n",
    "plt.bar(r1, media_felicidade['Grupo 1'], color='blue', width=bar_width, edgecolor='grey', label='Grupo 1')\n",
    "plt.bar(r2, media_felicidade['Grupo 2'], color='green', width=bar_width, edgecolor='grey', label='Grupo 2')\n",
    "plt.bar(r3, media_felicidade['Grupo 3'], color='red', width=bar_width, edgecolor='grey', label='Grupo 3')\n",
    "\n",
    "# Adiciona título e rótulos aos eixos\n",
    "plt.title('Média do Índice de Felicidade por Categoria de PIB')\n",
    "plt.xlabel('Categoria de PIB')\n",
    "plt.ylabel('Média do Índice de Felicidade')\n",
    "plt.xticks([r + bar_width for r in range(len(media_felicidade))], media_felicidade['PIB Categoria'])\n",
    "\n",
    "# Adiciona uma legenda\n",
    "plt.legend()\n",
    "\n",
    "# Exibe o gráfico\n",
    "plt.show()"
   ]
  },
  {
   "cell_type": "code",
   "execution_count": null,
   "metadata": {},
   "outputs": [],
   "source": [
    "# Calcula a média do índice de felicidade para cada categoria de PIB nos 30 países selecionados\n",
    "media_felicidade_30_paises = df_pib_felicidade_2023_30_paises.groupby('PIB Categoria', observed=True)['Ladder score'].mean()\n",
    "\n",
    "# Cria um DataFrame com as médias para facilitar a plotagem\n",
    "media_felicidade_30_paises_df = pd.DataFrame({\n",
    "    'PIB Categoria': media_felicidade_30_paises.index,\n",
    "    'Média do Índice de Felicidade': media_felicidade_30_paises.values\n",
    "}).reset_index(drop=True)\n",
    "\n",
    "# Define a largura das barras\n",
    "bar_width = 0.5\n",
    "\n",
    "# Cria o gráfico de barras\n",
    "plt.figure(figsize=(10, 6))\n",
    "plt.bar(media_felicidade_30_paises_df['PIB Categoria'], media_felicidade_30_paises_df['Média do Índice de Felicidade'], color=['blue', 'green', 'red'], width=bar_width, edgecolor='grey')\n",
    "\n",
    "# Adiciona título e rótulos aos eixos\n",
    "plt.title('Média do Índice de Felicidade por Categoria de PIB (30 Países Selecionados)')\n",
    "plt.xlabel('Categoria de PIB')\n",
    "plt.ylabel('Média do Índice de Felicidade')\n",
    "\n",
    "# Adiciona uma grade ao gráfico\n",
    "plt.grid(True)\n",
    "\n",
    "# Exibe o gráfico\n",
    "plt.show()"
   ]
  },
  {
   "cell_type": "markdown",
   "metadata": {},
   "source": [
    "### Correlações\n",
    "- **Grupo 1**: A correlação de Pearson é de -0.343, indicando uma correlação negativa moderada entre o PIB per capita e o índice de felicidade. À medida que o PIB per capita aumenta, o índice de felicidade tende a diminuir ligeiramente.\n",
    "- **Grupo 2**: A correlação de Pearson é de 0.157, sugerindo uma correlação positiva fraca entre o PIB per capita e o índice de felicidade. Um aumento no PIB per capita está associado a um pequeno aumento no índice de felicidade.\n",
    "- **Grupo 3**: A correlação de Pearson é de -0.014, indicando uma correlação praticamente inexistente entre o PIB per capita e o índice de felicidade. O PIB per capita não parece ter uma relação significativa com o índice de felicidade.\n",
    "- **30 Países Selecionados**: A correlação de Pearson é de 0.846, indicando uma forte correlação positiva entre o PIB per capita e o índice de felicidade. Um aumento no PIB per capita está fortemente associado a um aumento no índice de felicidade.\n",
    "\n",
    "### Coeficientes de Regressão Linear (𝛽1)\n",
    "- **Grupo 1**: O coeficiente 𝛽1 é de aproximadamente -0.233, sugerindo que um maior PIB per capita está associado a uma leve diminuição no índice de felicidade.\n",
    "- **Grupo 2**: O coeficiente 𝛽1 é de aproximadamente 0.024, indicando uma relação fraca entre o PIB per capita e o índice de felicidade.\n",
    "- **Grupo 3**: O coeficiente 𝛽1 é de aproximadamente -0.010, sugerindo que o PIB per capita não tem um impacto significativo no índice de felicidade.\n",
    "- **30 Países Selecionados**: O coeficiente 𝛽1 é de aproximadamente 1.024, indicando que um maior PIB per capita está fortemente associado a um aumento no índice de felicidade.\n",
    "\n",
    "### Coeficientes de Determinação (R²)\n",
    "- **Grupo 1**: O coeficiente de determinação (R²) é de aproximadamente 0.118, indicando que cerca de 11.8% da variação no índice de felicidade pode ser explicada pelo PIB per capita.\n",
    "- **Grupo 2**: O coeficiente de determinação (R²) é de aproximadamente 0.025, sugerindo que apenas 2.5% da variação no índice de felicidade pode ser explicada pelo PIB per capita.\n",
    "- **Grupo 3**: O coeficiente de determinação (R²) é de aproximadamente 0.0002, indicando que praticamente nenhuma variação no índice de felicidade pode ser explicada pelo PIB per capita.\n",
    "- **30 Países Selecionados**: O coeficiente de determinação (R²) é de aproximadamente 0.715, indicando que cerca de 71.5% da variação no índice de felicidade pode ser explicada pelo PIB per capita.\n",
    "\n",
    "## Limitações\n",
    "\n",
    "- **Fatores Adicionais**: A felicidade pode depender de muitos outros fatores além do PIB per capita, como desigualdade de renda, educação, saúde, segurança, cultura, entre outros.\n",
    "- **Dados Limitados**: A análise foi baseada em dados de um único ano. Resultados mais robustos poderiam ser obtidos com dados de múltiplos anos.\n",
    "- **Grupos Pequenos**: A divisão dos países em três grupos pode ter limitado a capacidade de detectar relações mais sutis entre o PIB per capita e a felicidade.\n",
    "- **Relações Não Lineares**: A análise considerou apenas relações lineares. Relações não lineares entre o PIB per capita e a felicidade podem existir e não foram exploradas.\n",
    "\n",
    "</br>\n",
    "\n",
    "___\n",
    "\n",
    "</br>"
   ]
  },
  {
   "cell_type": "markdown",
   "metadata": {},
   "source": [
    "# 8. Próximos Passos\n",
    "\n",
    "- Usar dados de outros anos para verificar se os resultados são consistentes.\n",
    "- Considerar variáveis adicionais: desigualdade de renda, educação, saúde e etc.\n",
    "- Aprofundar análises: Estudos comparativos regionais.\n",
    "\n",
    "</br>\n",
    "\n",
    "___\n",
    "\n",
    "</br>"
   ]
  }
 ],
 "metadata": {
  "kernelspec": {
   "display_name": "Python 3 (ipykernel)",
   "language": "python",
   "name": "python3"
  },
  "language_info": {
   "codemirror_mode": {
    "name": "ipython",
    "version": 3
   },
   "file_extension": ".py",
   "mimetype": "text/x-python",
   "name": "python",
   "nbconvert_exporter": "python",
   "pygments_lexer": "ipython3",
   "version": "3.11.5"
  }
 },
 "nbformat": 4,
 "nbformat_minor": 4
}
